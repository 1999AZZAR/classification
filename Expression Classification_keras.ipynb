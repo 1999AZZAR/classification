{
 "cells": [
  {
   "cell_type": "markdown",
   "metadata": {},
   "source": [
    "# Expression Classification Model Training\n",
    "\n",
    "This notebook demonstrates how to train a custom expression classification model using TensorFlow and Keras, with CUDA support for GPU acceleration. The model will classify facial expressions into 7 categories: angry, disgust, fear, happy, neutral, sad, and surprise."
   ]
  },
  {
   "cell_type": "markdown",
   "metadata": {},
   "source": [
    "## Gpu preperation"
   ]
  },
  {
   "cell_type": "code",
   "execution_count": 38,
   "metadata": {},
   "outputs": [
    {
     "name": "stdout",
     "output_type": "stream",
     "text": [
      "Sat Aug 31 17:44:32 2024       \n",
      "+---------------------------------------------------------------------------------------+\n",
      "| NVIDIA-SMI 535.104.12             Driver Version: 535.104.12   CUDA Version: 12.2     |\n",
      "|-----------------------------------------+----------------------+----------------------+\n",
      "| GPU  Name                 Persistence-M | Bus-Id        Disp.A | Volatile Uncorr. ECC |\n",
      "| Fan  Temp   Perf          Pwr:Usage/Cap |         Memory-Usage | GPU-Util  Compute M. |\n",
      "|                                         |                      |               MIG M. |\n",
      "|=========================================+======================+======================|\n",
      "|   0  NVIDIA RTX 4000 Ada Gene...    On  | 00000000:82:00.0 Off |                  Off |\n",
      "| 30%   33C    P8               8W / 130W |  19965MiB / 20475MiB |      0%      Default |\n",
      "|                                         |                      |                  N/A |\n",
      "+-----------------------------------------+----------------------+----------------------+\n",
      "                                                                                         \n",
      "+---------------------------------------------------------------------------------------+\n",
      "| Processes:                                                                            |\n",
      "|  GPU   GI   CI        PID   Type   Process name                            GPU Memory |\n",
      "|        ID   ID                                                             Usage      |\n",
      "|=======================================================================================|\n",
      "+---------------------------------------------------------------------------------------+\n"
     ]
    }
   ],
   "source": [
    "# check the GPU\n",
    "!nvidia-smi"
   ]
  },
  {
   "cell_type": "code",
   "execution_count": 39,
   "metadata": {},
   "outputs": [
    {
     "name": "stdout",
     "output_type": "stream",
     "text": [
      "Requirement already satisfied: Keras in /opt/micromamba/envs/python_310/lib/python3.10/site-packages (3.5.0)\n",
      "Requirement already satisfied: NumPy in /opt/micromamba/envs/python_310/lib/python3.10/site-packages (1.26.4)\n",
      "Requirement already satisfied: Matplotlib in /opt/micromamba/envs/python_310/lib/python3.10/site-packages (3.9.2)\n",
      "Requirement already satisfied: Seaborn in /opt/micromamba/envs/python_310/lib/python3.10/site-packages (0.13.2)\n",
      "Requirement already satisfied: Scikit-learn in /opt/micromamba/envs/python_310/lib/python3.10/site-packages (1.5.1)\n",
      "Requirement already satisfied: opendatasets in /opt/micromamba/envs/python_310/lib/python3.10/site-packages (0.1.22)\n",
      "Requirement already satisfied: tensorflow[and-cuda] in /opt/micromamba/envs/python_310/lib/python3.10/site-packages (2.17.0)\n",
      "Requirement already satisfied: absl-py>=1.0.0 in /opt/micromamba/envs/python_310/lib/python3.10/site-packages (from tensorflow[and-cuda]) (2.1.0)\n",
      "Requirement already satisfied: astunparse>=1.6.0 in /opt/micromamba/envs/python_310/lib/python3.10/site-packages (from tensorflow[and-cuda]) (1.6.3)\n",
      "Requirement already satisfied: flatbuffers>=24.3.25 in /opt/micromamba/envs/python_310/lib/python3.10/site-packages (from tensorflow[and-cuda]) (24.3.25)\n",
      "Requirement already satisfied: gast!=0.5.0,!=0.5.1,!=0.5.2,>=0.2.1 in /opt/micromamba/envs/python_310/lib/python3.10/site-packages (from tensorflow[and-cuda]) (0.6.0)\n",
      "Requirement already satisfied: google-pasta>=0.1.1 in /opt/micromamba/envs/python_310/lib/python3.10/site-packages (from tensorflow[and-cuda]) (0.2.0)\n",
      "Requirement already satisfied: h5py>=3.10.0 in /opt/micromamba/envs/python_310/lib/python3.10/site-packages (from tensorflow[and-cuda]) (3.11.0)\n",
      "Requirement already satisfied: libclang>=13.0.0 in /opt/micromamba/envs/python_310/lib/python3.10/site-packages (from tensorflow[and-cuda]) (18.1.1)\n",
      "Requirement already satisfied: ml-dtypes<0.5.0,>=0.3.1 in /opt/micromamba/envs/python_310/lib/python3.10/site-packages (from tensorflow[and-cuda]) (0.4.0)\n",
      "Requirement already satisfied: opt-einsum>=2.3.2 in /opt/micromamba/envs/python_310/lib/python3.10/site-packages (from tensorflow[and-cuda]) (3.3.0)\n",
      "Requirement already satisfied: packaging in /opt/micromamba/envs/python_310/lib/python3.10/site-packages (from tensorflow[and-cuda]) (24.0)\n",
      "Requirement already satisfied: protobuf!=4.21.0,!=4.21.1,!=4.21.2,!=4.21.3,!=4.21.4,!=4.21.5,<5.0.0dev,>=3.20.3 in /opt/micromamba/envs/python_310/lib/python3.10/site-packages (from tensorflow[and-cuda]) (4.25.4)\n",
      "Requirement already satisfied: requests<3,>=2.21.0 in /opt/micromamba/envs/python_310/lib/python3.10/site-packages (from tensorflow[and-cuda]) (2.31.0)\n",
      "Requirement already satisfied: setuptools in /opt/micromamba/envs/python_310/lib/python3.10/site-packages (from tensorflow[and-cuda]) (69.2.0)\n",
      "Requirement already satisfied: six>=1.12.0 in /opt/micromamba/envs/python_310/lib/python3.10/site-packages (from tensorflow[and-cuda]) (1.16.0)\n",
      "Requirement already satisfied: termcolor>=1.1.0 in /opt/micromamba/envs/python_310/lib/python3.10/site-packages (from tensorflow[and-cuda]) (2.4.0)\n",
      "Requirement already satisfied: typing-extensions>=3.6.6 in /opt/micromamba/envs/python_310/lib/python3.10/site-packages (from tensorflow[and-cuda]) (4.10.0)\n",
      "Requirement already satisfied: wrapt>=1.11.0 in /opt/micromamba/envs/python_310/lib/python3.10/site-packages (from tensorflow[and-cuda]) (1.16.0)\n",
      "Requirement already satisfied: grpcio<2.0,>=1.24.3 in /opt/micromamba/envs/python_310/lib/python3.10/site-packages (from tensorflow[and-cuda]) (1.66.1)\n",
      "Requirement already satisfied: tensorboard<2.18,>=2.17 in /opt/micromamba/envs/python_310/lib/python3.10/site-packages (from tensorflow[and-cuda]) (2.17.1)\n",
      "Requirement already satisfied: tensorflow-io-gcs-filesystem>=0.23.1 in /opt/micromamba/envs/python_310/lib/python3.10/site-packages (from tensorflow[and-cuda]) (0.37.1)\n",
      "Requirement already satisfied: nvidia-cublas-cu12==12.3.4.1 in /opt/micromamba/envs/python_310/lib/python3.10/site-packages (from tensorflow[and-cuda]) (12.3.4.1)\n",
      "Requirement already satisfied: nvidia-cuda-cupti-cu12==12.3.101 in /opt/micromamba/envs/python_310/lib/python3.10/site-packages (from tensorflow[and-cuda]) (12.3.101)\n",
      "Requirement already satisfied: nvidia-cuda-nvcc-cu12==12.3.107 in /opt/micromamba/envs/python_310/lib/python3.10/site-packages (from tensorflow[and-cuda]) (12.3.107)\n",
      "Requirement already satisfied: nvidia-cuda-nvrtc-cu12==12.3.107 in /opt/micromamba/envs/python_310/lib/python3.10/site-packages (from tensorflow[and-cuda]) (12.3.107)\n",
      "Requirement already satisfied: nvidia-cuda-runtime-cu12==12.3.101 in /opt/micromamba/envs/python_310/lib/python3.10/site-packages (from tensorflow[and-cuda]) (12.3.101)\n",
      "Requirement already satisfied: nvidia-cudnn-cu12==8.9.7.29 in /opt/micromamba/envs/python_310/lib/python3.10/site-packages (from tensorflow[and-cuda]) (8.9.7.29)\n",
      "Requirement already satisfied: nvidia-cufft-cu12==11.0.12.1 in /opt/micromamba/envs/python_310/lib/python3.10/site-packages (from tensorflow[and-cuda]) (11.0.12.1)\n",
      "Requirement already satisfied: nvidia-curand-cu12==10.3.4.107 in /opt/micromamba/envs/python_310/lib/python3.10/site-packages (from tensorflow[and-cuda]) (10.3.4.107)\n",
      "Requirement already satisfied: nvidia-cusolver-cu12==11.5.4.101 in /opt/micromamba/envs/python_310/lib/python3.10/site-packages (from tensorflow[and-cuda]) (11.5.4.101)\n",
      "Requirement already satisfied: nvidia-cusparse-cu12==12.2.0.103 in /opt/micromamba/envs/python_310/lib/python3.10/site-packages (from tensorflow[and-cuda]) (12.2.0.103)\n",
      "Requirement already satisfied: nvidia-nccl-cu12==2.19.3 in /opt/micromamba/envs/python_310/lib/python3.10/site-packages (from tensorflow[and-cuda]) (2.19.3)\n",
      "Requirement already satisfied: nvidia-nvjitlink-cu12==12.3.101 in /opt/micromamba/envs/python_310/lib/python3.10/site-packages (from tensorflow[and-cuda]) (12.3.101)\n",
      "Requirement already satisfied: rich in /opt/micromamba/envs/python_310/lib/python3.10/site-packages (from Keras) (13.8.0)\n",
      "Requirement already satisfied: namex in /opt/micromamba/envs/python_310/lib/python3.10/site-packages (from Keras) (0.0.8)\n",
      "Requirement already satisfied: optree in /opt/micromamba/envs/python_310/lib/python3.10/site-packages (from Keras) (0.12.1)\n",
      "Requirement already satisfied: contourpy>=1.0.1 in /opt/micromamba/envs/python_310/lib/python3.10/site-packages (from Matplotlib) (1.3.0)\n",
      "Requirement already satisfied: cycler>=0.10 in /opt/micromamba/envs/python_310/lib/python3.10/site-packages (from Matplotlib) (0.12.1)\n",
      "Requirement already satisfied: fonttools>=4.22.0 in /opt/micromamba/envs/python_310/lib/python3.10/site-packages (from Matplotlib) (4.53.1)\n",
      "Requirement already satisfied: kiwisolver>=1.3.1 in /opt/micromamba/envs/python_310/lib/python3.10/site-packages (from Matplotlib) (1.4.5)\n",
      "Requirement already satisfied: pillow>=8 in /opt/micromamba/envs/python_310/lib/python3.10/site-packages (from Matplotlib) (8.4.0)\n",
      "Requirement already satisfied: pyparsing>=2.3.1 in /opt/micromamba/envs/python_310/lib/python3.10/site-packages (from Matplotlib) (3.1.4)\n",
      "Requirement already satisfied: python-dateutil>=2.7 in /opt/micromamba/envs/python_310/lib/python3.10/site-packages (from Matplotlib) (2.9.0)\n",
      "Requirement already satisfied: pandas>=1.2 in /opt/micromamba/envs/python_310/lib/python3.10/site-packages (from Seaborn) (2.2.2)\n",
      "Requirement already satisfied: scipy>=1.6.0 in /opt/micromamba/envs/python_310/lib/python3.10/site-packages (from Scikit-learn) (1.14.1)\n",
      "Requirement already satisfied: joblib>=1.2.0 in /opt/micromamba/envs/python_310/lib/python3.10/site-packages (from Scikit-learn) (1.4.2)\n",
      "Requirement already satisfied: threadpoolctl>=3.1.0 in /opt/micromamba/envs/python_310/lib/python3.10/site-packages (from Scikit-learn) (3.5.0)\n",
      "Requirement already satisfied: tqdm in /opt/micromamba/envs/python_310/lib/python3.10/site-packages (from opendatasets) (4.66.5)\n",
      "Requirement already satisfied: kaggle in /opt/micromamba/envs/python_310/lib/python3.10/site-packages (from opendatasets) (1.6.17)\n",
      "Requirement already satisfied: click in /opt/micromamba/envs/python_310/lib/python3.10/site-packages (from opendatasets) (8.1.7)\n",
      "Requirement already satisfied: wheel<1.0,>=0.23.0 in /opt/micromamba/envs/python_310/lib/python3.10/site-packages (from astunparse>=1.6.0->tensorflow[and-cuda]) (0.43.0)\n",
      "Requirement already satisfied: pytz>=2020.1 in /opt/micromamba/envs/python_310/lib/python3.10/site-packages (from pandas>=1.2->Seaborn) (2024.1)\n",
      "Requirement already satisfied: tzdata>=2022.7 in /opt/micromamba/envs/python_310/lib/python3.10/site-packages (from pandas>=1.2->Seaborn) (2024.1)\n",
      "Requirement already satisfied: charset-normalizer<4,>=2 in /opt/micromamba/envs/python_310/lib/python3.10/site-packages (from requests<3,>=2.21.0->tensorflow[and-cuda]) (3.3.2)\n",
      "Requirement already satisfied: idna<4,>=2.5 in /opt/micromamba/envs/python_310/lib/python3.10/site-packages (from requests<3,>=2.21.0->tensorflow[and-cuda]) (3.6)\n",
      "Requirement already satisfied: urllib3<3,>=1.21.1 in /opt/micromamba/envs/python_310/lib/python3.10/site-packages (from requests<3,>=2.21.0->tensorflow[and-cuda]) (2.2.1)\n",
      "Requirement already satisfied: certifi>=2017.4.17 in /opt/micromamba/envs/python_310/lib/python3.10/site-packages (from requests<3,>=2.21.0->tensorflow[and-cuda]) (2024.2.2)\n",
      "Requirement already satisfied: markdown>=2.6.8 in /opt/micromamba/envs/python_310/lib/python3.10/site-packages (from tensorboard<2.18,>=2.17->tensorflow[and-cuda]) (3.7)\n",
      "Requirement already satisfied: tensorboard-data-server<0.8.0,>=0.7.0 in /opt/micromamba/envs/python_310/lib/python3.10/site-packages (from tensorboard<2.18,>=2.17->tensorflow[and-cuda]) (0.7.2)\n",
      "Requirement already satisfied: werkzeug>=1.0.1 in /opt/micromamba/envs/python_310/lib/python3.10/site-packages (from tensorboard<2.18,>=2.17->tensorflow[and-cuda]) (3.0.4)\n",
      "Requirement already satisfied: python-slugify in /opt/micromamba/envs/python_310/lib/python3.10/site-packages (from kaggle->opendatasets) (8.0.4)\n",
      "Requirement already satisfied: bleach in /opt/micromamba/envs/python_310/lib/python3.10/site-packages (from kaggle->opendatasets) (6.1.0)\n",
      "Requirement already satisfied: markdown-it-py>=2.2.0 in /opt/micromamba/envs/python_310/lib/python3.10/site-packages (from rich->Keras) (3.0.0)\n",
      "Requirement already satisfied: pygments<3.0.0,>=2.13.0 in /opt/micromamba/envs/python_310/lib/python3.10/site-packages (from rich->Keras) (2.17.2)\n",
      "Requirement already satisfied: mdurl~=0.1 in /opt/micromamba/envs/python_310/lib/python3.10/site-packages (from markdown-it-py>=2.2.0->rich->Keras) (0.1.2)\n",
      "Requirement already satisfied: MarkupSafe>=2.1.1 in /opt/micromamba/envs/python_310/lib/python3.10/site-packages (from werkzeug>=1.0.1->tensorboard<2.18,>=2.17->tensorflow[and-cuda]) (2.1.5)\n",
      "Requirement already satisfied: webencodings in /opt/micromamba/envs/python_310/lib/python3.10/site-packages (from bleach->kaggle->opendatasets) (0.5.1)\n",
      "Requirement already satisfied: text-unidecode>=1.3 in /opt/micromamba/envs/python_310/lib/python3.10/site-packages (from python-slugify->kaggle->opendatasets) (1.3)\n"
     ]
    }
   ],
   "source": [
    "!pip install tensorflow[and-cuda] Keras NumPy Matplotlib Seaborn Scikit-learn opendatasets"
   ]
  },
  {
   "cell_type": "markdown",
   "metadata": {},
   "source": [
    "## librarys and dependency calling"
   ]
  },
  {
   "cell_type": "code",
   "execution_count": 40,
   "metadata": {},
   "outputs": [
    {
     "name": "stdout",
     "output_type": "stream",
     "text": [
      "Num GPUs Available:  1\n",
      "Device name:  [PhysicalDevice(name='/physical_device:GPU:0', device_type='GPU')]\n",
      "Build With CUDA:  True\n",
      "TensorFlow version: 2.17.0\n"
     ]
    }
   ],
   "source": [
    "import tensorflow as tf\n",
    "import numpy as np\n",
    "import matplotlib.pyplot as plt\n",
    "from tensorflow.keras.preprocessing.image import ImageDataGenerator\n",
    "from tensorflow.keras.models import Sequential\n",
    "from tensorflow.keras.layers import Conv2D, MaxPooling2D, Flatten, Dense, Dropout\n",
    "from tensorflow.keras.callbacks import ModelCheckpoint, EarlyStopping, ReduceLROnPlateau\n",
    "from sklearn.utils.class_weight import compute_class_weight\n",
    "from tensorflow.keras.optimizers import Adam\n",
    "from sklearn.metrics import confusion_matrix, classification_report\n",
    "import seaborn as sns\n",
    "import os\n",
    "import random\n",
    "from PIL import Image \n",
    "\n",
    "# Check for GPU availability\n",
    "print(\"Num GPUs Available: \", len(tf.config.experimental.list_physical_devices('GPU')))\n",
    "print(\"Device name: \", tf.config.list_physical_devices('GPU'))\n",
    "print(\"Build With CUDA: \", tf.test.is_built_with_cuda())\n",
    "print(\"TensorFlow version:\", tf.__version__)"
   ]
  },
  {
   "cell_type": "markdown",
   "metadata": {},
   "source": [
    "## Data Preparation and Normalization"
   ]
  },
  {
   "cell_type": "markdown",
   "metadata": {},
   "source": [
    "#### dataset download (if not done)"
   ]
  },
  {
   "cell_type": "code",
   "execution_count": null,
   "metadata": {},
   "outputs": [],
   "source": [
    "# downloading the dataset\n",
    "import opendatasets as od\n",
    "import threading\n",
    "\n",
    "def download_dataset(url):\n",
    "    od.download(url, force=True)\n",
    "\n",
    "# URL for the dataset\n",
    "url = \"https://www.kaggle.com/datasets/jonathanoheix/face-expression-recognition-dataset\"\n",
    "# url = \"https://www.kaggle.com/c/challenges-in-representation-learning-facial-expression-recognition-challenge/data\"\n",
    "\n",
    "# Create a thread for downloading the dataset\n",
    "download_thread = threading.Thread(target=download_dataset, args=(url,))\n",
    "\n",
    "# Start the download thread\n",
    "download_thread.start()\n",
    "\n",
    "# Wait for the download to complete\n",
    "download_thread.join()"
   ]
  },
  {
   "cell_type": "markdown",
   "metadata": {},
   "source": [
    "#### data preparation"
   ]
  },
  {
   "cell_type": "code",
   "execution_count": 46,
   "metadata": {},
   "outputs": [
    {
     "name": "stdout",
     "output_type": "stream",
     "text": [
      "Found 28821 images belonging to 7 classes.\n",
      "Found 7066 images belonging to 7 classes.\n",
      "Found 7066 images belonging to 7 classes.\n"
     ]
    },
    {
     "data": {
      "image/png": "[encoded data removed]",
      "text/plain": [
       "<Figure size 1800x600 with 3 Axes>"
      ]
     },
     "metadata": {},
     "output_type": "display_data"
    },
    {
     "name": "stdout",
     "output_type": "stream",
     "text": [
      "Number of training samples: 28821\n",
      "Number of validation samples: 7066\n",
      "Number of test samples: 7066\n",
      "Number of classes: 7\n",
      "Class indices: {'angry': 0, 'disgust': 1, 'fear': 2, 'happy': 3, 'neutral': 4, 'sad': 5, 'surprise': 6}\n"
     ]
    }
   ],
   "source": [
    "# Set the path to your main data directory\n",
    "data_dir = './face-expression-recognition-dataset/images/images'\n",
    "\n",
    "# Define image parameters\n",
    "img_height, img_width = 48, 48\n",
    "batch_size = 154\n",
    "num_classes = 7\n",
    "\n",
    "# Create data generators with preprocessing\n",
    "def preprocess_image(img):\n",
    "    # Convert to grayscale if the image is RGB\n",
    "    if img.shape[-1] == 3:\n",
    "        img = tf.image.rgb_to_grayscale(img)\n",
    "    # Ensure the image is float32\n",
    "    img = tf.cast(img, tf.float32)\n",
    "    # Normalize to [-1, 1]\n",
    "    img = (img / 127.5) - 1\n",
    "    return img\n",
    "\n",
    "# Data generator for training data\n",
    "train_datagen = ImageDataGenerator(\n",
    "    preprocessing_function=preprocess_image,\n",
    "    rotation_range=20,\n",
    "    width_shift_range=0.2,\n",
    "    height_shift_range=0.2,\n",
    "    shear_range=0.2,\n",
    "    # zoom_range=0.2,\n",
    "    horizontal_flip=True\n",
    ")\n",
    "\n",
    "# Load and prepare the training data\n",
    "train_generator = train_datagen.flow_from_directory(\n",
    "    os.path.join(data_dir, 'train'),\n",
    "    target_size=(img_height, img_width),\n",
    "    batch_size=batch_size,\n",
    "    class_mode='categorical',\n",
    "    color_mode='grayscale',\n",
    "    shuffle=True\n",
    ")\n",
    "\n",
    "# Data generator for validation data\n",
    "validation_datagen = ImageDataGenerator(preprocessing_function=preprocess_image)\n",
    "\n",
    "# Load and prepare the validation data\n",
    "validation_generator = validation_datagen.flow_from_directory(\n",
    "    os.path.join(data_dir, 'validation'),\n",
    "    target_size=(img_height, img_width),\n",
    "    batch_size=batch_size,\n",
    "    class_mode='categorical',\n",
    "    color_mode='grayscale',\n",
    "    shuffle=False\n",
    ")\n",
    "\n",
    "# Load and prepare the test data\n",
    "test_datagen = ImageDataGenerator(preprocessing_function=preprocess_image)\n",
    "test_generator = test_datagen.flow_from_directory(\n",
    "    os.path.join(data_dir, 'validation'),\n",
    "    target_size=(img_height, img_width),\n",
    "    batch_size=batch_size,\n",
    "    class_mode='categorical',\n",
    "    color_mode='grayscale',\n",
    "    shuffle=False\n",
    ")\n",
    "\n",
    "# Check the balance of the dataset\n",
    "train_class_counts = np.sum(train_generator.labels, axis=0)\n",
    "validation_class_counts = np.sum(validation_generator.labels, axis=0)\n",
    "test_class_counts = np.sum(test_generator.labels, axis=0)\n",
    "\n",
    "class_names = list(train_generator.class_indices.keys())\n",
    "\n",
    "# Plotting the distribution of classes\n",
    "fig, ax = plt.subplots(1, 3, figsize=(18, 6))\n",
    "ax[0].bar(class_names, train_class_counts, color='blue')\n",
    "ax[0].set_title('Training Set Class Distribution')\n",
    "ax[0].set_xlabel('Class')\n",
    "ax[0].set_ylabel('Number of Images')\n",
    "\n",
    "ax[1].bar(class_names, validation_class_counts, color='green')\n",
    "ax[1].set_title('Validation Set Class Distribution')\n",
    "ax[1].set_xlabel('Class')\n",
    "ax[1].set_ylabel('Number of Images')\n",
    "\n",
    "ax[2].bar(class_names, test_class_counts, color='red')\n",
    "ax[2].set_title('Test Set Class Distribution')\n",
    "ax[2].set_xlabel('Class')\n",
    "ax[2].set_ylabel('Number of Images')\n",
    "\n",
    "plt.show()\n",
    "\n",
    "# Output some information\n",
    "print(f\"Number of training samples: {train_generator.samples}\")\n",
    "print(f\"Number of validation samples: {validation_generator.samples}\")\n",
    "print(f\"Number of test samples: {test_generator.samples}\")\n",
    "print(f\"Number of classes: {num_classes}\")\n",
    "print(f\"Class indices: {train_generator.class_indices}\")\n"
   ]
  },
  {
   "cell_type": "markdown",
   "metadata": {},
   "source": [
    "#### balance the data"
   ]
  },
  {
   "cell_type": "code",
   "execution_count": null,
   "metadata": {},
   "outputs": [],
   "source": [
    "# Compute class weights to handle imbalanced dataset\n",
    "class_weights = compute_class_weight(\n",
    "    class_weight='balanced',\n",
    "    classes=np.unique(train_generator.classes),\n",
    "    y=train_generator.classes\n",
    ")\n",
    "class_weight_dict = dict(enumerate(class_weights))\n",
    "\n",
    "# Plot initial class weights\n",
    "plt.figure(figsize=(10, 5))\n",
    "plt.bar(class_weight_dict.keys(), class_weight_dict.values(), color='blue')\n",
    "plt.title('Initial Class Weights')\n",
    "plt.xlabel('Class')\n",
    "plt.ylabel('Weight')\n",
    "plt.xticks(list(class_weight_dict.keys()))\n",
    "plt.show()\n",
    "\n",
    "# Optionally, adjust the weights manually to make them more similar\n",
    "min_weight = min(class_weight_dict.values())\n",
    "max_weight = max(class_weight_dict.values())\n",
    "\n",
    "for class_id in class_weight_dict:\n",
    "    class_weight_dict[class_id] = max(min(class_weight_dict[class_id], max_weight * 0.8), min_weight * 1.2)\n",
    "\n",
    "# Plot adjusted class weights\n",
    "plt.figure(figsize=(10, 5))\n",
    "plt.bar(class_weight_dict.keys(), class_weight_dict.values(), color='green')\n",
    "plt.title('Adjusted Class Weights')\n",
    "plt.xlabel('Class')\n",
    "plt.ylabel('Weight')\n",
    "plt.xticks(list(class_weight_dict.keys()))\n",
    "plt.show()"
   ]
  },
  {
   "cell_type": "markdown",
   "metadata": {},
   "source": [
    "## Visualize Some Training Images"
   ]
  },
  {
   "cell_type": "code",
   "execution_count": null,
   "metadata": {},
   "outputs": [],
   "source": [
    "def show_batch(image_batch, label_batch):\n",
    "    plt.figure(figsize=(10, 10))\n",
    "    for n in range(25):\n",
    "        ax = plt.subplot(5, 5, n + 1)\n",
    "        plt.imshow(image_batch[n].reshape(img_height, img_width), cmap='gray')\n",
    "        plt.title(list(train_generator.class_indices.keys())[label_batch[n].argmax()])\n",
    "        plt.axis('off')\n",
    "    plt.tight_layout()\n",
    "    plt.show()\n",
    "\n",
    "# Get a batch of training images and labels\n",
    "image_batch, label_batch = next(iter(train_generator))\n",
    "\n",
    "# Visualize the batch\n",
    "show_batch(image_batch, label_batch)"
   ]
  },
  {
   "cell_type": "markdown",
   "metadata": {},
   "source": [
    "## Model Definition"
   ]
  },
  {
   "cell_type": "code",
   "execution_count": null,
   "metadata": {},
   "outputs": [],
   "source": [
    "model = Sequential([\n",
    "    Conv2D(32, (3, 3), activation='relu', input_shape=(img_height, img_width, 1)),\n",
    "    MaxPooling2D(2, 2),\n",
    "    Conv2D(64, (3, 3), activation='relu'),\n",
    "    MaxPooling2D(2, 2),\n",
    "    Conv2D(64, (3, 3), activation='relu'),\n",
    "    MaxPooling2D(2, 2),\n",
    "    Flatten(),\n",
    "    Dense(64, activation='relu'),\n",
    "    Dropout(0.5),\n",
    "    Dense(num_classes, activation='softmax')\n",
    "])\n",
    "\n",
    "model.compile(optimizer='adam',\n",
    "              loss='categorical_crossentropy',\n",
    "              metrics=['accuracy'])\n",
    "\n",
    "model.summary()"
   ]
  },
  {
   "cell_type": "markdown",
   "metadata": {},
   "source": [
    "## Model Training"
   ]
  },
  {
   "cell_type": "markdown",
   "metadata": {},
   "source": [
    "Check GPU Configuration"
   ]
  },
  {
   "cell_type": "code",
   "execution_count": null,
   "metadata": {},
   "outputs": [],
   "source": [
    "# Check if GPU is available\n",
    "physical_devices = tf.config.list_physical_devices('GPU')\n",
    "if physical_devices:\n",
    "    print(\"Using GPU:\", tf.config.experimental.get_device_details(physical_devices[0])['device_name'])\n",
    "    # tf.config.experimental.set_memory_growth(physical_devices[0], True)\n",
    "else:\n",
    "    print(\"GPU not found. Using CPU.\")"
   ]
  },
  {
   "cell_type": "markdown",
   "metadata": {},
   "source": [
    "callback"
   ]
  },
  {
   "cell_type": "code",
   "execution_count": null,
   "metadata": {},
   "outputs": [],
   "source": [
    "# Compile the model with the Adam optimizer\n",
    "model.compile(optimizer=Adam(learning_rate=0.001), loss='categorical_crossentropy', metrics=['accuracy'])\n",
    "\n",
    "# Callbacks\n",
    "checkpoint = ModelCheckpoint('./models/img_best_model.keras', save_best_only=True, monitor='val_accuracy', mode='max')\n",
    "early_stopping = EarlyStopping(monitor='val_loss', patience=5, restore_best_weights=True)\n",
    "reduce_lr = ReduceLROnPlateau(monitor='val_loss', factor=0.2, patience=5, min_lr=1e-6)"
   ]
  },
  {
   "cell_type": "markdown",
   "metadata": {},
   "source": [
    "Weight calculation"
   ]
  },
  {
   "cell_type": "code",
   "execution_count": null,
   "metadata": {},
   "outputs": [],
   "source": [
    "# Calculate the class weights\n",
    "class_weight = compute_class_weight(\n",
    "    class_weight='balanced',\n",
    "    classes=np.unique(train_generator.classes),\n",
    "    y=train_generator.classes\n",
    ")\n",
    "\n",
    "# Convert to dictionary format required by TensorFlow\n",
    "class_weight_dict = dict(enumerate(class_weight))"
   ]
  },
  {
   "cell_type": "markdown",
   "metadata": {},
   "source": [
    "Model training"
   ]
  },
  {
   "cell_type": "code",
   "execution_count": null,
   "metadata": {},
   "outputs": [],
   "source": [
    "history = model.fit(\n",
    "    train_generator,\n",
    "    steps_per_epoch=(train_generator.samples + batch_size - 1) // batch_size,  # Rounding up to include all data\n",
    "    epochs=77,\n",
    "    validation_data=validation_generator,\n",
    "    validation_steps=max(1, validation_generator.samples // batch_size),  # Ensure at least 1 validation step\n",
    "    callbacks=[checkpoint, early_stopping, reduce_lr],\n",
    "    class_weight=class_weight_dict,\n",
    "    shuffle=True\n",
    ")"
   ]
  },
  {
   "cell_type": "markdown",
   "metadata": {},
   "source": [
    "Model Evaluation"
   ]
  },
  {
   "cell_type": "code",
   "execution_count": null,
   "metadata": {},
   "outputs": [],
   "source": [
    "# Evaluate the model on the test set\n",
    "test_loss, test_accuracy = model.evaluate(test_generator, steps=test_generator.samples // batch_size)\n",
    "print(f\"Test accuracy: {test_accuracy:.2f}\")\n",
    "print(f\"Test loss: {test_loss:.2f}\")"
   ]
  },
  {
   "cell_type": "markdown",
   "metadata": {},
   "source": [
    "## Training Results Visualization"
   ]
  },
  {
   "cell_type": "code",
   "execution_count": null,
   "metadata": {},
   "outputs": [],
   "source": [
    "# Plot training & validation accuracy values\n",
    "plt.figure(figsize=(12, 4))\n",
    "plt.subplot(1, 2, 1)\n",
    "plt.plot(history.history['accuracy'])\n",
    "plt.plot(history.history['val_accuracy'])\n",
    "plt.title('Model accuracy')\n",
    "plt.ylabel('Accuracy')\n",
    "plt.xlabel('Epoch')\n",
    "plt.legend(['Train', 'Validation'], loc='upper left')\n",
    "\n",
    "# Plot training & validation loss values\n",
    "plt.subplot(1, 2, 2)\n",
    "plt.plot(history.history['loss'])\n",
    "plt.plot(history.history['val_loss'])\n",
    "plt.title('Model loss')\n",
    "plt.ylabel('Loss')\n",
    "plt.xlabel('Epoch')\n",
    "plt.legend(['Train', 'Validation'], loc='upper left')\n",
    "\n",
    "plt.tight_layout()\n",
    "plt.show()"
   ]
  },
  {
   "cell_type": "markdown",
   "metadata": {},
   "source": [
    "## Confusion Matrix"
   ]
  },
  {
   "cell_type": "code",
   "execution_count": null,
   "metadata": {},
   "outputs": [],
   "source": [
    "# Get predictions\n",
    "y_pred = model.predict(test_generator)\n",
    "y_pred_classes = np.argmax(y_pred, axis=1)\n",
    "y_true = test_generator.classes\n",
    "\n",
    "# Compute confusion matrix\n",
    "cm = confusion_matrix(y_true, y_pred_classes)\n",
    "\n",
    "# Plot confusion matrix\n",
    "plt.figure(figsize=(10, 8))\n",
    "sns.heatmap(cm, annot=True, fmt='d', cmap='Blues')\n",
    "plt.title('Confusion Matrix')\n",
    "plt.ylabel('True Label')\n",
    "plt.xlabel('Predicted Label')\n",
    "plt.show()\n",
    "\n",
    "# Print classification report\n",
    "print(classification_report(y_true, y_pred_classes, target_names=list(train_generator.class_indices.keys())))"
   ]
  },
  {
   "cell_type": "markdown",
   "metadata": {},
   "source": [
    "## Save the Model"
   ]
  },
  {
   "cell_type": "code",
   "execution_count": null,
   "metadata": {},
   "outputs": [],
   "source": [
    "# Save the entire model as a SavedModel\n",
    "model.save('./models/expression_classification_model.keras')\n",
    "print(\"Model saved as 'expression_classification_model.keras'\")\n",
    "\n",
    "# Save the model architecture as JSON\n",
    "# model_json = model.to_json()\n",
    "# with open(\"./models/model_architecture.json\", \"w\") as json_file:\n",
    "#     json_file.write(model_json)\n",
    "# print(\"Model architecture saved as 'model_architecture.json'\")\n",
    "\n",
    "# Save the trained weights\n",
    "# model.save_weights(\"./models/model.weights.h5\")\n",
    "# print(\"Model weights saved as 'model.weights.h5'\")"
   ]
  },
  {
   "cell_type": "markdown",
   "metadata": {},
   "source": [
    "## Load and Use the Saved Model"
   ]
  },
  {
   "cell_type": "code",
   "execution_count": null,
   "metadata": {},
   "outputs": [],
   "source": [
    "# Load the saved model\n",
    "loaded_model = tf.keras.models.load_model('./models/expression_classification_model.keras')\n",
    "\n",
    "# Verify the model architecture\n",
    "loaded_model.summary()"
   ]
  },
  {
   "cell_type": "markdown",
   "metadata": {},
   "source": [
    "## Try Out the Model"
   ]
  },
  {
   "cell_type": "code",
   "execution_count": null,
   "metadata": {},
   "outputs": [],
   "source": [
    "# Define the category labels\n",
    "categories = ['angry', 'disgust', 'fear', 'happy', 'neutral', 'sad', 'surprise']\n",
    "\n",
    "def predict_expression(image_path, model):\n",
    "    # Load and preprocess the image\n",
    "    img = Image.open(image_path).convert('L')  # Convert image to grayscale\n",
    "    img = img.resize((46, 46))  # Resize to match the model's expected input shape\n",
    "    img_array = np.array(img)\n",
    "    img_array = np.expand_dims(img_array, axis=-1)  # Add channel dimension\n",
    "    img_array = np.expand_dims(img_array, axis=0)  # Add batch dimension\n",
    "    img_array = img_array.astype('float32') / 255.0  # Normalize if required\n",
    "\n",
    "    # Make predictions\n",
    "    predictions = model.predict(img_array)\n",
    "    \n",
    "    # Get the index of the maximum value (predicted class)\n",
    "    predicted_class_index = np.argmax(predictions[0])\n",
    "    \n",
    "    # Get the predicted category\n",
    "    predicted_category = categories[predicted_class_index]\n",
    "    \n",
    "    # Get the confidence of the prediction\n",
    "    confidence = predictions[0][predicted_class_index]\n",
    "    \n",
    "    # Load the image for display\n",
    "    img_display = Image.open(image_path)\n",
    "    \n",
    "    # Display the image and prediction\n",
    "    plt.imshow(img_display, cmap='gray')\n",
    "    plt.axis('off')\n",
    "    plt.title(f\"Predicted: {predicted_category}\\nConfidence: {confidence:.2f}\")\n",
    "    plt.show()\n",
    "    \n",
    "    # Print the probabilities for each class\n",
    "    print(\"Probabilities for each class:\")\n",
    "    for class_name, prob in zip(categories, predictions[0]):\n",
    "        print(f\"{class_name}: {prob:.4f}\")\n",
    "    \n",
    "    return predicted_category, confidence\n",
    "\n",
    "def get_random_image_path(base_dir):\n",
    "    # Get all subdirectories (categories)\n",
    "    categories = [d for d in os.listdir(base_dir) if os.path.isdir(os.path.join(base_dir, d))]\n",
    "    \n",
    "    # Choose a random category\n",
    "    random_category = random.choice(categories)\n",
    "    \n",
    "    # Get all image files in the chosen category\n",
    "    category_path = os.path.join(base_dir, random_category)\n",
    "    image_files = [f for f in os.listdir(category_path) if os.path.isfile(os.path.join(category_path, f))]\n",
    "    \n",
    "    # Choose a random image file\n",
    "    random_image = random.choice(image_files)\n",
    "    \n",
    "    return os.path.join(category_path, random_image)\n",
    "\n",
    "# Directory containing the images\n",
    "base_dir = './face-expression-recognition-dataset/images/images/validation/'\n",
    "\n",
    "# Choose a random image\n",
    "random_image_path = get_random_image_path(base_dir)\n",
    "\n",
    "# Print the path of the chosen image\n",
    "print(f\"Chosen image path: {random_image_path}\")\n",
    "\n",
    "# Load the model\n",
    "# loaded_model = tf.keras.models.load_model('./models/expression_classification_model.keras')\n",
    "\n",
    "# Make a prediction\n",
    "predicted_category, confidence = predict_expression(random_image_path, loaded_model)"
   ]
  }
 ],
 "metadata": {
  "kernelspec": {
   "display_name": "Python 3.10",
   "language": "python",
   "name": "python_310"
  },
  "language_info": {
   "codemirror_mode": {
    "name": "ipython",
    "version": 3
   },
   "file_extension": ".py",
   "mimetype": "text/x-python",
   "name": "python",
   "nbconvert_exporter": "python",
   "pygments_lexer": "ipython3",
   "version": "3.10.14"
  }
 },
 "nbformat": 4,
 "nbformat_minor": 4
}
