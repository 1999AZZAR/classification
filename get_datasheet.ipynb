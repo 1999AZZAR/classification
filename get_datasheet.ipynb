{
 "cells": [
  {
   "cell_type": "code",
   "execution_count": null,
   "id": "2711c8a1-0651-45cc-b793-6ce7834ea773",
   "metadata": {
    "scrolled": true
   },
   "outputs": [],
   "source": [
    "# downloading the dataset\n",
    "!pip install opendatasets\n",
    "\n",
    "import opendatasets as od\n",
    "import threading\n",
    "\n",
    "def download_dataset(url):\n",
    "    od.download(url, force=True)\n",
    "\n",
    "# URL for the dataset\n",
    "url = \"https://www.kaggle.com/datasets/jonathanoheix/face-expression-recognition-dataset\"\n",
    "# url = \"https://www.kaggle.com/c/challenges-in-representation-learning-facial-expression-recognition-challenge/data\"\n",
    "\n",
    "# Create a thread for downloading the dataset\n",
    "download_thread = threading.Thread(target=download_dataset, args=(url,))\n",
    "\n",
    "# Start the download thread\n",
    "download_thread.start()\n",
    "\n",
    "# Wait for the download to complete\n",
    "download_thread.join()"
   ]
  },
  {
   "cell_type": "code",
   "execution_count": null,
   "id": "181dd4e7-46d0-4c53-8dc4-ac16a66b38f7",
   "metadata": {},
   "outputs": [],
   "source": [
    "# download the datasets\n",
    "\n",
    "#os.chdir('/content/drive/MyDrive/LEARNING/MASTER IA3/Project II/Facial Expressions/')\n",
    "!wget https://www.neuraldojo.org/media/facialexpressions/dataset.zip --no-check-certificate\n",
    "!unzip dataset.zip\n",
    "\n",
    "#Getting fonts for MTCNN\n",
    "!wget https://www.neuraldojo.org/media/facialexpressions/BebasNeue-Regular.ttf --no-check-certificate\n"
   ]
  }
 ],
 "metadata": {
  "kernelspec": {
   "display_name": "Python 3 (ipykernel)",
   "language": "python",
   "name": "python3"
  },
  "language_info": {
   "codemirror_mode": {
    "name": "ipython",
    "version": 3
   },
   "file_extension": ".py",
   "mimetype": "text/x-python",
   "name": "python",
   "nbconvert_exporter": "python",
   "pygments_lexer": "ipython3",
   "version": "3.11.10"
  }
 },
 "nbformat": 4,
 "nbformat_minor": 5
}
