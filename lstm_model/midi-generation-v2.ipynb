{
 "cells": [
  {
   "cell_type": "markdown",
   "id": "intro",
   "metadata": {},
   "source": [
    "# MIDI Generation using LSTM Model\n",
    "\n",
    "This notebook generates new MIDI files based on an example MIDI and a pre-trained LSTM model."
   ]
  },
  {
   "cell_type": "code",
   "execution_count": 2,
   "id": "imports",
   "metadata": {},
   "outputs": [],
   "source": [
    "import music21\n",
    "import numpy as np\n",
    "from keras.models import load_model\n",
    "from music21 import *\n",
    "import random\n",
    "import matplotlib.pyplot as plt\n",
    "from IPython.display import Audio\n",
    "import os\n",
    "from music21 import note, chord, stream, instrument"
   ]
  },
  {
   "cell_type": "markdown",
   "id": "config",
   "metadata": {},
   "source": [
    "## Configuration\n",
    "Set your paths and parameters here:"
   ]
  },
  {
   "cell_type": "code",
   "execution_count": 3,
   "id": "config-code",
   "metadata": {},
   "outputs": [],
   "source": [
    "# Paths\n",
    "MODEL_PATH = \"final_model.keras\"\n",
    "EXAMPLE_MIDI = \"seed5.mid\"\n",
    "OUTPUT_MIDI = \"generated_output.mid\"\n",
    "\n",
    "# Parameters\n",
    "SEQUENCE_LENGTH = 100\n",
    "N_NOTES = 200\n",
    "TEMPERATURE = 1.0  # Controls randomness in generation"
   ]
  },
  {
   "cell_type": "markdown",
   "id": "functions",
   "metadata": {},
   "source": [
    "## Helper Functions"
   ]
  },
  {
   "cell_type": "code",
   "execution_count": 4,
   "id": "extract-notes",
   "metadata": {},
   "outputs": [],
   "source": [
    "def extract_notes(file_path):\n",
    "    notes = []\n",
    "    try:\n",
    "        midi = converter.parse(file_path)\n",
    "        instruments = instrument.partitionByInstrument(midi)\n",
    "        \n",
    "        for part in instruments.parts:\n",
    "            for element in part.flat.notes:\n",
    "                if isinstance(element, note.Note):\n",
    "                    notes.append(str(element.pitch))\n",
    "                elif isinstance(element, chord.Chord):\n",
    "                    notes.append('.'.join(str(n) for n in element.normalOrder))\n",
    "                    \n",
    "        return notes, True\n",
    "    except Exception as e:\n",
    "        print(f\"Error loading MIDI: {str(e)}\")\n",
    "        return [], False"
   ]
  },
  {
   "cell_type": "code",
   "execution_count": 5,
   "id": "prepare-sequences",
   "metadata": {},
   "outputs": [],
   "source": [
    "def prepare_sequences(notes, sequence_length=SEQUENCE_LENGTH):\n",
    "    pitchnames = sorted(set(notes))\n",
    "    note_to_int = {note: number for number, note in enumerate(pitchnames)}\n",
    "    int_to_note = {number: note for number, note in enumerate(pitchnames)}\n",
    "\n",
    "    network_input = []\n",
    "    network_output = []\n",
    "\n",
    "    for i in range(len(notes) - sequence_length):\n",
    "        sequence_in = notes[i:i + sequence_length]\n",
    "        sequence_out = notes[i + sequence_length]\n",
    "\n",
    "        # Map notes to integers\n",
    "        try:\n",
    "            input_sequence = [note_to_int[note] for note in sequence_in]\n",
    "            output_note = note_to_int[sequence_out]\n",
    "            network_input.append(input_sequence)\n",
    "            network_output.append(output_note)\n",
    "        except KeyError as e:\n",
    "            print(f\"Skipped invalid note: {e}\")\n",
    "\n",
    "    return np.array(network_input), np.array(network_output), len(pitchnames), pitchnames\n"
   ]
  },
  {
   "cell_type": "code",
   "execution_count": 22,
   "id": "generate-notes",
   "metadata": {},
   "outputs": [],
   "source": [
    "def generate_notes(model, network_input, pitchnames, n_vocab, n_notes=N_NOTES, temperature=TEMPERATURE, clip_value=0.1):\n",
    "    start = random.randint(0, len(network_input) - 1)\n",
    "    int_to_note = {number: note for number, note in enumerate(pitchnames)}\n",
    "    note_to_int = {note: number for number, note in enumerate(pitchnames)}\n",
    "    \n",
    "    pattern = list(network_input[start])\n",
    "    prediction_output = []\n",
    "\n",
    "    for _ in range(n_notes):\n",
    "        prediction_input = np.reshape(pattern, (1, len(pattern), 1))\n",
    "        prediction_input = prediction_input / float(n_vocab)\n",
    "        \n",
    "        prediction = model.predict(prediction_input, verbose=0)\n",
    "        \n",
    "        prediction = np.log(prediction + 1e-9) / temperature\n",
    "        exp_preds = np.exp(prediction)\n",
    "        exp_preds = np.clip(exp_preds, clip_value, None)\n",
    "        prediction = exp_preds / np.sum(exp_preds)\n",
    "        \n",
    "        index = np.random.choice(len(prediction[0]), p=prediction[0])\n",
    "\n",
    "        if index >= n_vocab or index not in int_to_note:\n",
    "            print(f\"Index {index} not found in int_to_note mapping. Using a random fallback note.\")\n",
    "            index = random.choice(list(int_to_note.keys()))\n",
    "        \n",
    "        result = int_to_note[index]\n",
    "        prediction_output.append(result)  # Only append the note, not the tuple\n",
    "        \n",
    "        pattern.append(index)\n",
    "        pattern = pattern[1:]\n",
    "    \n",
    "    return prediction_output"
   ]
  },
  {
   "cell_type": "code",
   "execution_count": 16,
   "id": "create-midi",
   "metadata": {},
   "outputs": [],
   "source": [
    "def create_midi(prediction_output, filename=\"output.mid\"):\n",
    "    \"\"\"\n",
    "    Create a MIDI file from the prediction output.\n",
    "\n",
    "    Parameters:\n",
    "        prediction_output: List of predicted notes or chords.\n",
    "        filename: Name of the output MIDI file.\n",
    "\n",
    "    Returns:\n",
    "        music21 Stream object representing the MIDI file.\n",
    "    \"\"\"\n",
    "    offset = 0\n",
    "    output_notes = []\n",
    "\n",
    "    for pattern in prediction_output:\n",
    "        try:\n",
    "            # Handle chords (e.g., \"60.64.67\")\n",
    "            if ('.' in pattern) or pattern.isdigit():\n",
    "                chord_notes = pattern.split('.')\n",
    "                notes = [\n",
    "                    note.Note(int(current_note), \n",
    "                              storedInstrument=instrument.Piano())\n",
    "                    for current_note in chord_notes\n",
    "                ]\n",
    "                new_chord = chord.Chord(notes)\n",
    "                new_chord.offset = offset\n",
    "                output_notes.append(new_chord)\n",
    "            else:\n",
    "                # Handle single notes (e.g., \"C4\")\n",
    "                new_note = note.Note(pattern)\n",
    "                new_note.offset = offset\n",
    "                new_note.storedInstrument = instrument.Piano()\n",
    "                output_notes.append(new_note)\n",
    "\n",
    "        except Exception as e:\n",
    "            # Fallback for invalid patterns\n",
    "            print(f\"Error processing pattern '{pattern}': {e}. Using a fallback note.\")\n",
    "            fallback_note = note.Rest()  # Use a rest as a fallback\n",
    "            fallback_note.offset = offset\n",
    "            output_notes.append(fallback_note)\n",
    "\n",
    "        offset += 0.5\n",
    "\n",
    "    # Create and write the MIDI stream\n",
    "    midi_stream = stream.Stream(output_notes)\n",
    "    midi_stream.write('midi', fp=filename)\n",
    "    return midi_stream\n"
   ]
  },
  {
   "cell_type": "markdown",
   "id": "analysis",
   "metadata": {},
   "source": [
    "## Load and Verify Model"
   ]
  },
  {
   "cell_type": "code",
   "execution_count": 9,
   "id": "load-model",
   "metadata": {},
   "outputs": [
    {
     "name": "stdout",
     "output_type": "stream",
     "text": [
      "Model loaded successfully\n"
     ]
    },
    {
     "data": {
      "text/html": [
       "<pre style=\"white-space:pre;overflow-x:auto;line-height:normal;font-family:Menlo,'DejaVu Sans Mono',consolas,'Courier New',monospace\"><span style=\"font-weight: bold\">Model: \"sequential_1\"</span>\n",
       "</pre>\n"
      ],
      "text/plain": [
       "\u001b[1mModel: \"sequential_1\"\u001b[0m\n"
      ]
     },
     "metadata": {},
     "output_type": "display_data"
    },
    {
     "data": {
      "text/html": [
       "<pre style=\"white-space:pre;overflow-x:auto;line-height:normal;font-family:Menlo,'DejaVu Sans Mono',consolas,'Courier New',monospace\">┏━━━━━━━━━━━━━━━━━━━━━━━━━━━━━━━━━┳━━━━━━━━━━━━━━━━━━━━━━━━┳━━━━━━━━━━━━━━━┓\n",
       "┃<span style=\"font-weight: bold\"> Layer (type)                    </span>┃<span style=\"font-weight: bold\"> Output Shape           </span>┃<span style=\"font-weight: bold\">       Param # </span>┃\n",
       "┡━━━━━━━━━━━━━━━━━━━━━━━━━━━━━━━━━╇━━━━━━━━━━━━━━━━━━━━━━━━╇━━━━━━━━━━━━━━━┩\n",
       "│ lstm_3 (<span style=\"color: #0087ff; text-decoration-color: #0087ff\">LSTM</span>)                   │ (<span style=\"color: #00d7ff; text-decoration-color: #00d7ff\">None</span>, <span style=\"color: #00af00; text-decoration-color: #00af00\">100</span>, <span style=\"color: #00af00; text-decoration-color: #00af00\">512</span>)       │     <span style=\"color: #00af00; text-decoration-color: #00af00\">1,052,672</span> │\n",
       "├─────────────────────────────────┼────────────────────────┼───────────────┤\n",
       "│ batch_normalization_4           │ (<span style=\"color: #00d7ff; text-decoration-color: #00d7ff\">None</span>, <span style=\"color: #00af00; text-decoration-color: #00af00\">100</span>, <span style=\"color: #00af00; text-decoration-color: #00af00\">512</span>)       │         <span style=\"color: #00af00; text-decoration-color: #00af00\">2,048</span> │\n",
       "│ (<span style=\"color: #0087ff; text-decoration-color: #0087ff\">BatchNormalization</span>)            │                        │               │\n",
       "├─────────────────────────────────┼────────────────────────┼───────────────┤\n",
       "│ dropout_4 (<span style=\"color: #0087ff; text-decoration-color: #0087ff\">Dropout</span>)             │ (<span style=\"color: #00d7ff; text-decoration-color: #00d7ff\">None</span>, <span style=\"color: #00af00; text-decoration-color: #00af00\">100</span>, <span style=\"color: #00af00; text-decoration-color: #00af00\">512</span>)       │             <span style=\"color: #00af00; text-decoration-color: #00af00\">0</span> │\n",
       "├─────────────────────────────────┼────────────────────────┼───────────────┤\n",
       "│ lstm_4 (<span style=\"color: #0087ff; text-decoration-color: #0087ff\">LSTM</span>)                   │ (<span style=\"color: #00d7ff; text-decoration-color: #00d7ff\">None</span>, <span style=\"color: #00af00; text-decoration-color: #00af00\">100</span>, <span style=\"color: #00af00; text-decoration-color: #00af00\">512</span>)       │     <span style=\"color: #00af00; text-decoration-color: #00af00\">2,099,200</span> │\n",
       "├─────────────────────────────────┼────────────────────────┼───────────────┤\n",
       "│ batch_normalization_5           │ (<span style=\"color: #00d7ff; text-decoration-color: #00d7ff\">None</span>, <span style=\"color: #00af00; text-decoration-color: #00af00\">100</span>, <span style=\"color: #00af00; text-decoration-color: #00af00\">512</span>)       │         <span style=\"color: #00af00; text-decoration-color: #00af00\">2,048</span> │\n",
       "│ (<span style=\"color: #0087ff; text-decoration-color: #0087ff\">BatchNormalization</span>)            │                        │               │\n",
       "├─────────────────────────────────┼────────────────────────┼───────────────┤\n",
       "│ dropout_5 (<span style=\"color: #0087ff; text-decoration-color: #0087ff\">Dropout</span>)             │ (<span style=\"color: #00d7ff; text-decoration-color: #00d7ff\">None</span>, <span style=\"color: #00af00; text-decoration-color: #00af00\">100</span>, <span style=\"color: #00af00; text-decoration-color: #00af00\">512</span>)       │             <span style=\"color: #00af00; text-decoration-color: #00af00\">0</span> │\n",
       "├─────────────────────────────────┼────────────────────────┼───────────────┤\n",
       "│ lstm_5 (<span style=\"color: #0087ff; text-decoration-color: #0087ff\">LSTM</span>)                   │ (<span style=\"color: #00d7ff; text-decoration-color: #00d7ff\">None</span>, <span style=\"color: #00af00; text-decoration-color: #00af00\">512</span>)            │     <span style=\"color: #00af00; text-decoration-color: #00af00\">2,099,200</span> │\n",
       "├─────────────────────────────────┼────────────────────────┼───────────────┤\n",
       "│ batch_normalization_6           │ (<span style=\"color: #00d7ff; text-decoration-color: #00d7ff\">None</span>, <span style=\"color: #00af00; text-decoration-color: #00af00\">512</span>)            │         <span style=\"color: #00af00; text-decoration-color: #00af00\">2,048</span> │\n",
       "│ (<span style=\"color: #0087ff; text-decoration-color: #0087ff\">BatchNormalization</span>)            │                        │               │\n",
       "├─────────────────────────────────┼────────────────────────┼───────────────┤\n",
       "│ dropout_6 (<span style=\"color: #0087ff; text-decoration-color: #0087ff\">Dropout</span>)             │ (<span style=\"color: #00d7ff; text-decoration-color: #00d7ff\">None</span>, <span style=\"color: #00af00; text-decoration-color: #00af00\">512</span>)            │             <span style=\"color: #00af00; text-decoration-color: #00af00\">0</span> │\n",
       "├─────────────────────────────────┼────────────────────────┼───────────────┤\n",
       "│ dense_2 (<span style=\"color: #0087ff; text-decoration-color: #0087ff\">Dense</span>)                 │ (<span style=\"color: #00d7ff; text-decoration-color: #00d7ff\">None</span>, <span style=\"color: #00af00; text-decoration-color: #00af00\">256</span>)            │       <span style=\"color: #00af00; text-decoration-color: #00af00\">131,328</span> │\n",
       "├─────────────────────────────────┼────────────────────────┼───────────────┤\n",
       "│ batch_normalization_7           │ (<span style=\"color: #00d7ff; text-decoration-color: #00d7ff\">None</span>, <span style=\"color: #00af00; text-decoration-color: #00af00\">256</span>)            │         <span style=\"color: #00af00; text-decoration-color: #00af00\">1,024</span> │\n",
       "│ (<span style=\"color: #0087ff; text-decoration-color: #0087ff\">BatchNormalization</span>)            │                        │               │\n",
       "├─────────────────────────────────┼────────────────────────┼───────────────┤\n",
       "│ dropout_7 (<span style=\"color: #0087ff; text-decoration-color: #0087ff\">Dropout</span>)             │ (<span style=\"color: #00d7ff; text-decoration-color: #00d7ff\">None</span>, <span style=\"color: #00af00; text-decoration-color: #00af00\">256</span>)            │             <span style=\"color: #00af00; text-decoration-color: #00af00\">0</span> │\n",
       "├─────────────────────────────────┼────────────────────────┼───────────────┤\n",
       "│ dense_3 (<span style=\"color: #0087ff; text-decoration-color: #0087ff\">Dense</span>)                 │ (<span style=\"color: #00d7ff; text-decoration-color: #00d7ff\">None</span>, <span style=\"color: #00af00; text-decoration-color: #00af00\">160</span>)            │        <span style=\"color: #00af00; text-decoration-color: #00af00\">41,120</span> │\n",
       "└─────────────────────────────────┴────────────────────────┴───────────────┘\n",
       "</pre>\n"
      ],
      "text/plain": [
       "┏━━━━━━━━━━━━━━━━━━━━━━━━━━━━━━━━━┳━━━━━━━━━━━━━━━━━━━━━━━━┳━━━━━━━━━━━━━━━┓\n",
       "┃\u001b[1m \u001b[0m\u001b[1mLayer (type)                   \u001b[0m\u001b[1m \u001b[0m┃\u001b[1m \u001b[0m\u001b[1mOutput Shape          \u001b[0m\u001b[1m \u001b[0m┃\u001b[1m \u001b[0m\u001b[1m      Param #\u001b[0m\u001b[1m \u001b[0m┃\n",
       "┡━━━━━━━━━━━━━━━━━━━━━━━━━━━━━━━━━╇━━━━━━━━━━━━━━━━━━━━━━━━╇━━━━━━━━━━━━━━━┩\n",
       "│ lstm_3 (\u001b[38;5;33mLSTM\u001b[0m)                   │ (\u001b[38;5;45mNone\u001b[0m, \u001b[38;5;34m100\u001b[0m, \u001b[38;5;34m512\u001b[0m)       │     \u001b[38;5;34m1,052,672\u001b[0m │\n",
       "├─────────────────────────────────┼────────────────────────┼───────────────┤\n",
       "│ batch_normalization_4           │ (\u001b[38;5;45mNone\u001b[0m, \u001b[38;5;34m100\u001b[0m, \u001b[38;5;34m512\u001b[0m)       │         \u001b[38;5;34m2,048\u001b[0m │\n",
       "│ (\u001b[38;5;33mBatchNormalization\u001b[0m)            │                        │               │\n",
       "├─────────────────────────────────┼────────────────────────┼───────────────┤\n",
       "│ dropout_4 (\u001b[38;5;33mDropout\u001b[0m)             │ (\u001b[38;5;45mNone\u001b[0m, \u001b[38;5;34m100\u001b[0m, \u001b[38;5;34m512\u001b[0m)       │             \u001b[38;5;34m0\u001b[0m │\n",
       "├─────────────────────────────────┼────────────────────────┼───────────────┤\n",
       "│ lstm_4 (\u001b[38;5;33mLSTM\u001b[0m)                   │ (\u001b[38;5;45mNone\u001b[0m, \u001b[38;5;34m100\u001b[0m, \u001b[38;5;34m512\u001b[0m)       │     \u001b[38;5;34m2,099,200\u001b[0m │\n",
       "├─────────────────────────────────┼────────────────────────┼───────────────┤\n",
       "│ batch_normalization_5           │ (\u001b[38;5;45mNone\u001b[0m, \u001b[38;5;34m100\u001b[0m, \u001b[38;5;34m512\u001b[0m)       │         \u001b[38;5;34m2,048\u001b[0m │\n",
       "│ (\u001b[38;5;33mBatchNormalization\u001b[0m)            │                        │               │\n",
       "├─────────────────────────────────┼────────────────────────┼───────────────┤\n",
       "│ dropout_5 (\u001b[38;5;33mDropout\u001b[0m)             │ (\u001b[38;5;45mNone\u001b[0m, \u001b[38;5;34m100\u001b[0m, \u001b[38;5;34m512\u001b[0m)       │             \u001b[38;5;34m0\u001b[0m │\n",
       "├─────────────────────────────────┼────────────────────────┼───────────────┤\n",
       "│ lstm_5 (\u001b[38;5;33mLSTM\u001b[0m)                   │ (\u001b[38;5;45mNone\u001b[0m, \u001b[38;5;34m512\u001b[0m)            │     \u001b[38;5;34m2,099,200\u001b[0m │\n",
       "├─────────────────────────────────┼────────────────────────┼───────────────┤\n",
       "│ batch_normalization_6           │ (\u001b[38;5;45mNone\u001b[0m, \u001b[38;5;34m512\u001b[0m)            │         \u001b[38;5;34m2,048\u001b[0m │\n",
       "│ (\u001b[38;5;33mBatchNormalization\u001b[0m)            │                        │               │\n",
       "├─────────────────────────────────┼────────────────────────┼───────────────┤\n",
       "│ dropout_6 (\u001b[38;5;33mDropout\u001b[0m)             │ (\u001b[38;5;45mNone\u001b[0m, \u001b[38;5;34m512\u001b[0m)            │             \u001b[38;5;34m0\u001b[0m │\n",
       "├─────────────────────────────────┼────────────────────────┼───────────────┤\n",
       "│ dense_2 (\u001b[38;5;33mDense\u001b[0m)                 │ (\u001b[38;5;45mNone\u001b[0m, \u001b[38;5;34m256\u001b[0m)            │       \u001b[38;5;34m131,328\u001b[0m │\n",
       "├─────────────────────────────────┼────────────────────────┼───────────────┤\n",
       "│ batch_normalization_7           │ (\u001b[38;5;45mNone\u001b[0m, \u001b[38;5;34m256\u001b[0m)            │         \u001b[38;5;34m1,024\u001b[0m │\n",
       "│ (\u001b[38;5;33mBatchNormalization\u001b[0m)            │                        │               │\n",
       "├─────────────────────────────────┼────────────────────────┼───────────────┤\n",
       "│ dropout_7 (\u001b[38;5;33mDropout\u001b[0m)             │ (\u001b[38;5;45mNone\u001b[0m, \u001b[38;5;34m256\u001b[0m)            │             \u001b[38;5;34m0\u001b[0m │\n",
       "├─────────────────────────────────┼────────────────────────┼───────────────┤\n",
       "│ dense_3 (\u001b[38;5;33mDense\u001b[0m)                 │ (\u001b[38;5;45mNone\u001b[0m, \u001b[38;5;34m160\u001b[0m)            │        \u001b[38;5;34m41,120\u001b[0m │\n",
       "└─────────────────────────────────┴────────────────────────┴───────────────┘\n"
      ]
     },
     "metadata": {},
     "output_type": "display_data"
    },
    {
     "data": {
      "text/html": [
       "<pre style=\"white-space:pre;overflow-x:auto;line-height:normal;font-family:Menlo,'DejaVu Sans Mono',consolas,'Courier New',monospace\"><span style=\"font-weight: bold\"> Total params: </span><span style=\"color: #00af00; text-decoration-color: #00af00\">16,284,898</span> (62.12 MB)\n",
       "</pre>\n"
      ],
      "text/plain": [
       "\u001b[1m Total params: \u001b[0m\u001b[38;5;34m16,284,898\u001b[0m (62.12 MB)\n"
      ]
     },
     "metadata": {},
     "output_type": "display_data"
    },
    {
     "data": {
      "text/html": [
       "<pre style=\"white-space:pre;overflow-x:auto;line-height:normal;font-family:Menlo,'DejaVu Sans Mono',consolas,'Courier New',monospace\"><span style=\"font-weight: bold\"> Trainable params: </span><span style=\"color: #00af00; text-decoration-color: #00af00\">5,427,104</span> (20.70 MB)\n",
       "</pre>\n"
      ],
      "text/plain": [
       "\u001b[1m Trainable params: \u001b[0m\u001b[38;5;34m5,427,104\u001b[0m (20.70 MB)\n"
      ]
     },
     "metadata": {},
     "output_type": "display_data"
    },
    {
     "data": {
      "text/html": [
       "<pre style=\"white-space:pre;overflow-x:auto;line-height:normal;font-family:Menlo,'DejaVu Sans Mono',consolas,'Courier New',monospace\"><span style=\"font-weight: bold\"> Non-trainable params: </span><span style=\"color: #00af00; text-decoration-color: #00af00\">3,584</span> (14.00 KB)\n",
       "</pre>\n"
      ],
      "text/plain": [
       "\u001b[1m Non-trainable params: \u001b[0m\u001b[38;5;34m3,584\u001b[0m (14.00 KB)\n"
      ]
     },
     "metadata": {},
     "output_type": "display_data"
    },
    {
     "data": {
      "text/html": [
       "<pre style=\"white-space:pre;overflow-x:auto;line-height:normal;font-family:Menlo,'DejaVu Sans Mono',consolas,'Courier New',monospace\"><span style=\"font-weight: bold\"> Optimizer params: </span><span style=\"color: #00af00; text-decoration-color: #00af00\">10,854,210</span> (41.41 MB)\n",
       "</pre>\n"
      ],
      "text/plain": [
       "\u001b[1m Optimizer params: \u001b[0m\u001b[38;5;34m10,854,210\u001b[0m (41.41 MB)\n"
      ]
     },
     "metadata": {},
     "output_type": "display_data"
    }
   ],
   "source": [
    "try:\n",
    "    model = load_model(MODEL_PATH)\n",
    "    print(\"Model loaded successfully\")\n",
    "    model.summary()\n",
    "except Exception as e:\n",
    "    print(f\"Error loading model: {str(e)}\")"
   ]
  },
  {
   "cell_type": "markdown",
   "id": "process",
   "metadata": {},
   "source": [
    "## Process Example MIDI"
   ]
  },
  {
   "cell_type": "code",
   "execution_count": 10,
   "id": "process-midi",
   "metadata": {},
   "outputs": [
    {
     "name": "stderr",
     "output_type": "stream",
     "text": [
      "/usr/local/lib/python3.10/dist-packages/music21/stream/base.py:3689: Music21DeprecationWarning: .flat is deprecated.  Call .flatten() instead\n",
      "  return self.iter().getElementsByClass(classFilterList)\n"
     ]
    },
    {
     "name": "stdout",
     "output_type": "stream",
     "text": [
      "Total notes extracted: 545\n",
      "Unique notes/chords: 33\n"
     ]
    },
    {
     "data": {
      "image/png": "[encoded data removed]",
      "text/plain": [
       "<Figure size 1200x600 with 1 Axes>"
      ]
     },
     "metadata": {
      "image/png": {
       "height": 546,
       "width": 997
      }
     },
     "output_type": "display_data"
    }
   ],
   "source": [
    "# Extract and analyze notes\n",
    "notes, success = extract_notes(EXAMPLE_MIDI)\n",
    "if success:\n",
    "    print(f\"Total notes extracted: {len(notes)}\")\n",
    "    print(f\"Unique notes/chords: {len(set(notes))}\")\n",
    "    \n",
    "    # Plot note distribution\n",
    "    plt.figure(figsize=(12, 6))\n",
    "    unique_notes = list(set(notes))\n",
    "    plt.hist([unique_notes.index(note) for note in notes], bins=50)\n",
    "    plt.title('Note Distribution in Example MIDI')\n",
    "    plt.xlabel('Note Index')\n",
    "    plt.ylabel('Frequency')\n",
    "    plt.show()"
   ]
  },
  {
   "cell_type": "markdown",
   "id": "generation",
   "metadata": {},
   "source": [
    "## Generate New MIDI"
   ]
  },
  {
   "cell_type": "code",
   "execution_count": 23,
   "id": "generate",
   "metadata": {
    "scrolled": true
   },
   "outputs": [
    {
     "name": "stdout",
     "output_type": "stream",
     "text": [
      "Generalizing and validating model input/output mappings...\n",
      "Sequences validated and generalized.\n",
      "Generating notes...\n",
      "Index 152 not found in int_to_note mapping. Using a random fallback note.\n",
      "Index 133 not found in int_to_note mapping. Using a random fallback note.\n",
      "Index 69 not found in int_to_note mapping. Using a random fallback note.\n",
      "Index 132 not found in int_to_note mapping. Using a random fallback note.\n",
      "Index 52 not found in int_to_note mapping. Using a random fallback note.\n",
      "Index 124 not found in int_to_note mapping. Using a random fallback note.\n",
      "Index 112 not found in int_to_note mapping. Using a random fallback note.\n",
      "Index 158 not found in int_to_note mapping. Using a random fallback note.\n",
      "Index 129 not found in int_to_note mapping. Using a random fallback note.\n",
      "Index 93 not found in int_to_note mapping. Using a random fallback note.\n",
      "Index 99 not found in int_to_note mapping. Using a random fallback note.\n",
      "Index 136 not found in int_to_note mapping. Using a random fallback note.\n",
      "Index 84 not found in int_to_note mapping. Using a random fallback note.\n",
      "Index 114 not found in int_to_note mapping. Using a random fallback note.\n",
      "Index 94 not found in int_to_note mapping. Using a random fallback note.\n",
      "Index 80 not found in int_to_note mapping. Using a random fallback note.\n",
      "Index 137 not found in int_to_note mapping. Using a random fallback note.\n",
      "Index 79 not found in int_to_note mapping. Using a random fallback note.\n",
      "Index 107 not found in int_to_note mapping. Using a random fallback note.\n",
      "Index 123 not found in int_to_note mapping. Using a random fallback note.\n",
      "Index 148 not found in int_to_note mapping. Using a random fallback note.\n",
      "Index 76 not found in int_to_note mapping. Using a random fallback note.\n",
      "Index 44 not found in int_to_note mapping. Using a random fallback note.\n",
      "Index 80 not found in int_to_note mapping. Using a random fallback note.\n",
      "Index 113 not found in int_to_note mapping. Using a random fallback note.\n",
      "Index 98 not found in int_to_note mapping. Using a random fallback note.\n",
      "Index 126 not found in int_to_note mapping. Using a random fallback note.\n",
      "Index 119 not found in int_to_note mapping. Using a random fallback note.\n",
      "Index 79 not found in int_to_note mapping. Using a random fallback note.\n",
      "Index 89 not found in int_to_note mapping. Using a random fallback note.\n",
      "Index 132 not found in int_to_note mapping. Using a random fallback note.\n",
      "Index 125 not found in int_to_note mapping. Using a random fallback note.\n",
      "Index 95 not found in int_to_note mapping. Using a random fallback note.\n",
      "Index 83 not found in int_to_note mapping. Using a random fallback note.\n",
      "Index 105 not found in int_to_note mapping. Using a random fallback note.\n",
      "Index 121 not found in int_to_note mapping. Using a random fallback note.\n",
      "Index 154 not found in int_to_note mapping. Using a random fallback note.\n",
      "Index 44 not found in int_to_note mapping. Using a random fallback note.\n",
      "Index 156 not found in int_to_note mapping. Using a random fallback note.\n",
      "Index 125 not found in int_to_note mapping. Using a random fallback note.\n",
      "Index 50 not found in int_to_note mapping. Using a random fallback note.\n",
      "Index 42 not found in int_to_note mapping. Using a random fallback note.\n",
      "Index 51 not found in int_to_note mapping. Using a random fallback note.\n",
      "Index 111 not found in int_to_note mapping. Using a random fallback note.\n",
      "Index 59 not found in int_to_note mapping. Using a random fallback note.\n",
      "Index 118 not found in int_to_note mapping. Using a random fallback note.\n",
      "Index 84 not found in int_to_note mapping. Using a random fallback note.\n",
      "Index 128 not found in int_to_note mapping. Using a random fallback note.\n",
      "Index 83 not found in int_to_note mapping. Using a random fallback note.\n",
      "Index 54 not found in int_to_note mapping. Using a random fallback note.\n",
      "Index 102 not found in int_to_note mapping. Using a random fallback note.\n",
      "Index 158 not found in int_to_note mapping. Using a random fallback note.\n",
      "Index 51 not found in int_to_note mapping. Using a random fallback note.\n",
      "Index 144 not found in int_to_note mapping. Using a random fallback note.\n",
      "Index 138 not found in int_to_note mapping. Using a random fallback note.\n",
      "Index 151 not found in int_to_note mapping. Using a random fallback note.\n",
      "Index 95 not found in int_to_note mapping. Using a random fallback note.\n",
      "Index 80 not found in int_to_note mapping. Using a random fallback note.\n",
      "Index 106 not found in int_to_note mapping. Using a random fallback note.\n",
      "Index 96 not found in int_to_note mapping. Using a random fallback note.\n",
      "Index 74 not found in int_to_note mapping. Using a random fallback note.\n",
      "Index 36 not found in int_to_note mapping. Using a random fallback note.\n",
      "Index 40 not found in int_to_note mapping. Using a random fallback note.\n",
      "Index 130 not found in int_to_note mapping. Using a random fallback note.\n",
      "Index 92 not found in int_to_note mapping. Using a random fallback note.\n",
      "Index 66 not found in int_to_note mapping. Using a random fallback note.\n",
      "Index 142 not found in int_to_note mapping. Using a random fallback note.\n",
      "Index 51 not found in int_to_note mapping. Using a random fallback note.\n",
      "Index 150 not found in int_to_note mapping. Using a random fallback note.\n",
      "Index 114 not found in int_to_note mapping. Using a random fallback note.\n",
      "Index 78 not found in int_to_note mapping. Using a random fallback note.\n",
      "Index 147 not found in int_to_note mapping. Using a random fallback note.\n",
      "Index 154 not found in int_to_note mapping. Using a random fallback note.\n",
      "Index 109 not found in int_to_note mapping. Using a random fallback note.\n",
      "Index 134 not found in int_to_note mapping. Using a random fallback note.\n",
      "Index 78 not found in int_to_note mapping. Using a random fallback note.\n",
      "Index 127 not found in int_to_note mapping. Using a random fallback note.\n",
      "Index 45 not found in int_to_note mapping. Using a random fallback note.\n",
      "Index 75 not found in int_to_note mapping. Using a random fallback note.\n",
      "Index 86 not found in int_to_note mapping. Using a random fallback note.\n",
      "Index 63 not found in int_to_note mapping. Using a random fallback note.\n",
      "Index 53 not found in int_to_note mapping. Using a random fallback note.\n",
      "Index 40 not found in int_to_note mapping. Using a random fallback note.\n",
      "Index 74 not found in int_to_note mapping. Using a random fallback note.\n",
      "Index 86 not found in int_to_note mapping. Using a random fallback note.\n",
      "Index 141 not found in int_to_note mapping. Using a random fallback note.\n",
      "Index 152 not found in int_to_note mapping. Using a random fallback note.\n",
      "Index 95 not found in int_to_note mapping. Using a random fallback note.\n",
      "Index 49 not found in int_to_note mapping. Using a random fallback note.\n",
      "Index 141 not found in int_to_note mapping. Using a random fallback note.\n",
      "Index 143 not found in int_to_note mapping. Using a random fallback note.\n",
      "Index 142 not found in int_to_note mapping. Using a random fallback note.\n",
      "Index 96 not found in int_to_note mapping. Using a random fallback note.\n",
      "Index 125 not found in int_to_note mapping. Using a random fallback note.\n",
      "Index 157 not found in int_to_note mapping. Using a random fallback note.\n",
      "Index 141 not found in int_to_note mapping. Using a random fallback note.\n",
      "Index 150 not found in int_to_note mapping. Using a random fallback note.\n",
      "Index 120 not found in int_to_note mapping. Using a random fallback note.\n",
      "Index 156 not found in int_to_note mapping. Using a random fallback note.\n",
      "Index 134 not found in int_to_note mapping. Using a random fallback note.\n",
      "Index 136 not found in int_to_note mapping. Using a random fallback note.\n",
      "Index 156 not found in int_to_note mapping. Using a random fallback note.\n",
      "Index 152 not found in int_to_note mapping. Using a random fallback note.\n",
      "Index 158 not found in int_to_note mapping. Using a random fallback note.\n",
      "Index 120 not found in int_to_note mapping. Using a random fallback note.\n",
      "Index 138 not found in int_to_note mapping. Using a random fallback note.\n",
      "Index 146 not found in int_to_note mapping. Using a random fallback note.\n",
      "Index 137 not found in int_to_note mapping. Using a random fallback note.\n",
      "Index 151 not found in int_to_note mapping. Using a random fallback note.\n",
      "Index 104 not found in int_to_note mapping. Using a random fallback note.\n",
      "Index 85 not found in int_to_note mapping. Using a random fallback note.\n",
      "Index 106 not found in int_to_note mapping. Using a random fallback note.\n",
      "Index 63 not found in int_to_note mapping. Using a random fallback note.\n",
      "Index 71 not found in int_to_note mapping. Using a random fallback note.\n",
      "Index 38 not found in int_to_note mapping. Using a random fallback note.\n",
      "Index 142 not found in int_to_note mapping. Using a random fallback note.\n",
      "Index 152 not found in int_to_note mapping. Using a random fallback note.\n",
      "Index 48 not found in int_to_note mapping. Using a random fallback note.\n",
      "Index 88 not found in int_to_note mapping. Using a random fallback note.\n",
      "Index 50 not found in int_to_note mapping. Using a random fallback note.\n",
      "Index 77 not found in int_to_note mapping. Using a random fallback note.\n",
      "Index 132 not found in int_to_note mapping. Using a random fallback note.\n",
      "Index 156 not found in int_to_note mapping. Using a random fallback note.\n",
      "Index 157 not found in int_to_note mapping. Using a random fallback note.\n",
      "Index 153 not found in int_to_note mapping. Using a random fallback note.\n",
      "Index 127 not found in int_to_note mapping. Using a random fallback note.\n",
      "Index 82 not found in int_to_note mapping. Using a random fallback note.\n",
      "Index 78 not found in int_to_note mapping. Using a random fallback note.\n",
      "Index 40 not found in int_to_note mapping. Using a random fallback note.\n",
      "Index 75 not found in int_to_note mapping. Using a random fallback note.\n",
      "Index 65 not found in int_to_note mapping. Using a random fallback note.\n",
      "Index 101 not found in int_to_note mapping. Using a random fallback note.\n",
      "Index 128 not found in int_to_note mapping. Using a random fallback note.\n",
      "Index 50 not found in int_to_note mapping. Using a random fallback note.\n",
      "Index 112 not found in int_to_note mapping. Using a random fallback note.\n",
      "Index 53 not found in int_to_note mapping. Using a random fallback note.\n",
      "Index 53 not found in int_to_note mapping. Using a random fallback note.\n",
      "Index 124 not found in int_to_note mapping. Using a random fallback note.\n",
      "Index 141 not found in int_to_note mapping. Using a random fallback note.\n",
      "Index 128 not found in int_to_note mapping. Using a random fallback note.\n",
      "Index 138 not found in int_to_note mapping. Using a random fallback note.\n",
      "Index 84 not found in int_to_note mapping. Using a random fallback note.\n",
      "Index 131 not found in int_to_note mapping. Using a random fallback note.\n",
      "Index 140 not found in int_to_note mapping. Using a random fallback note.\n",
      "Index 92 not found in int_to_note mapping. Using a random fallback note.\n",
      "Index 76 not found in int_to_note mapping. Using a random fallback note.\n",
      "Index 45 not found in int_to_note mapping. Using a random fallback note.\n",
      "Index 113 not found in int_to_note mapping. Using a random fallback note.\n",
      "Index 143 not found in int_to_note mapping. Using a random fallback note.\n",
      "Index 54 not found in int_to_note mapping. Using a random fallback note.\n",
      "Index 141 not found in int_to_note mapping. Using a random fallback note.\n",
      "Index 89 not found in int_to_note mapping. Using a random fallback note.\n",
      "Index 101 not found in int_to_note mapping. Using a random fallback note.\n",
      "Index 63 not found in int_to_note mapping. Using a random fallback note.\n",
      "Index 147 not found in int_to_note mapping. Using a random fallback note.\n",
      "Index 121 not found in int_to_note mapping. Using a random fallback note.\n",
      "Note generation complete.\n",
      "Creating MIDI file...\n",
      "Generated MIDI saved as: generated_output.mid\n"
     ]
    }
   ],
   "source": [
    "if success:\n",
    "    try:\n",
    "        print(\"Generalizing and validating model input/output mappings...\")\n",
    "\n",
    "        # Prepare sequences\n",
    "        network_input, _, n_vocab, pitchnames = prepare_sequences(notes)\n",
    "\n",
    "        # Filter sequences to ensure alignment with vocabulary\n",
    "        valid_notes = set(range(n_vocab))\n",
    "        network_input = [\n",
    "            [note if note in valid_notes else random.choice(list(valid_notes)) for note in sequence]\n",
    "            for sequence in network_input\n",
    "        ]\n",
    "\n",
    "        print(\"Sequences validated and generalized.\")\n",
    "\n",
    "        # Generate new notes\n",
    "        print(\"Generating notes...\")\n",
    "        prediction_output = generate_notes(model, network_input, pitchnames, n_vocab)\n",
    "        print(\"Note generation complete.\")\n",
    "\n",
    "        # Create MIDI file\n",
    "        print(\"Creating MIDI file...\")\n",
    "        midi_stream = create_midi(prediction_output)\n",
    "        print(f\"Generated MIDI saved as: {OUTPUT_MIDI}\")\n",
    "\n",
    "    except Exception as e:\n",
    "        print(f\"An error occurred: {e}\")\n"
   ]
  },
  {
   "cell_type": "code",
   "execution_count": null,
   "id": "26db4f5e-de4c-423a-9a8d-a7dd9c116e61",
   "metadata": {},
   "outputs": [],
   "source": []
  }
 ],
 "metadata": {
  "kernelspec": {
   "display_name": "Python 3 (ipykernel)",
   "language": "python",
   "name": "python3"
  },
  "language_info": {
   "codemirror_mode": {
    "name": "ipython",
    "version": 3
   },
   "file_extension": ".py",
   "mimetype": "text/x-python",
   "name": "python",
   "nbconvert_exporter": "python",
   "pygments_lexer": "ipython3",
   "version": "3.10.12"
  }
 },
 "nbformat": 4,
 "nbformat_minor": 5
}
