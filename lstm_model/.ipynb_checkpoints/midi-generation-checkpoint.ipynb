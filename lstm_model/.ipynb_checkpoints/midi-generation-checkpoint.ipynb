{
 "nbformat": 4,
 "nbformat_minor": 5,
 "metadata": {
  "kernelspec": {
   "display_name": "Python 3",
   "language": "python",
   "name": "python3"
  },
  "language_info": {
   "codemirror_mode": {
    "name": "ipython",
    "version": 3
   },
   "file_extension": ".py",
   "mimetype": "text/x-python",
   "name": "python",
   "nbconvert_exporter": "python",
   "pygments_lexer": "ipython3",
   "version": "3.8.0"
  }
 },
 "cells": [
  {
   "cell_type": "code",
   "execution_count": null,
   "id": "1",
   "metadata": {},
   "source": [
    "import music21\n",
    "import numpy as np\n",
    "from keras.models import load_model\n",
    "from music21 import *\n",
    "import random"
   ]
  },
  {
   "cell_type": "code",
   "execution_count": null,
   "id": "2",
   "metadata": {},
   "source": [
    "def extract_notes(file_path):\n",
    "    notes = []\n",
    "    midi = converter.parse(file_path)\n",
    "    \n",
    "    for element in midi.flat.notes:\n",
    "        if isinstance(element, note.Note):\n",
    "            notes.append(str(element.pitch))\n",
    "        elif isinstance(element, chord.Chord):\n",
    "            notes.append('.'.join(str(n) for n in element.normalOrder))\n",
    "            \n",
    "    return notes"
   ]
  },
  {
   "cell_type": "code",
   "execution_count": null,
   "id": "3",
   "metadata": {},
   "source": [
    "def prepare_sequences(notes, sequence_length=100):\n",
    "    pitchnames = sorted(set(notes))\n",
    "    note_to_int = dict((note, number) for number, note in enumerate(pitchnames))\n",
    "    \n",
    "    network_input = []\n",
    "    network_output = []\n",
    "    \n",
    "    for i in range(0, len(notes) - sequence_length):\n",
    "        sequence_in = notes[i:i + sequence_length]\n",
    "        sequence_out = notes[i + sequence_length]\n",
    "        network_input.append([note_to_int[char] for char in sequence_in])\n",
    "        network_output.append(note_to_int[sequence_out])\n",
    "    \n",
    "    return (network_input, network_output, len(pitchnames), pitchnames)"
   ]
  },
  {
   "cell_type": "code",
   "execution_count": null,
   "id": "4", 
   "metadata": {},
   "source": [
    "def generate_notes(model, network_input, pitchnames, n_vocab, n_notes=500):\n",
    "    start = random.randint(0, len(network_input)-1)\n",
    "    int_to_note = dict((number, note) for number, note in enumerate(pitchnames))\n",
    "    pattern = network_input[start]\n",
    "    \n",
    "    prediction_output = []\n",
    "\n",
    "    for i in range(n_notes):\n",
    "        prediction_input = np.reshape(pattern, (1, len(pattern), 1))\n",
    "        prediction_input = prediction_input / float(n_vocab)\n",
    "        \n",
    "        prediction = model.predict(prediction_input, verbose=0)\n",
    "        prediction = prediction[0]\n",
    "        index = np.random.choice(len(prediction), p=prediction/sum(prediction))\n",
    "        \n",
    "        result = int_to_note[index]\n",
    "        prediction_output.append(result)\n",
    "        \n",
    "        pattern.append(index)\n",
    "        pattern = pattern[1:]\n",
    "    \n",
    "    return prediction_output"
   ]
  },
  {
   "cell_type": "code",
   "execution_count": null,
   "id": "5",
   "metadata": {},
   "source": [
    "def create_midi(prediction_output, filename=\"generated_output.mid\"):\n",
    "    offset = 0\n",
    "    output_notes = []\n",
    "\n",
    "    for pattern in prediction_output:\n",
    "        if ('.' in pattern) or pattern.isdigit():\n",
    "            chord_notes = pattern.split('.')\n",
    "            notes = []\n",
    "            for current_note in chord_notes:\n",
    "                new_note = note.Note(int(current_note))\n",
    "                new_note.storedInstrument = instrument.Piano()\n",
    "                notes.append(new_note)\n",
    "            new_chord = chord.Chord(notes)\n",
    "            new_chord.offset = offset\n",
    "            output_notes.append(new_chord)\n",
    "        else:\n",
    "            new_note = note.Note(pattern)\n",
    "            new_note.offset = offset\n",
    "            new_note.storedInstrument = instrument.Piano()\n",
    "            output_notes.append(new_note)\n",
    "\n",
    "        offset += 0.5\n",
    "\n",
    "    midi_stream = stream.Stream(output_notes)\n",
    "    midi_stream.write('midi', fp=filename)"
   ]
  },
  {
   "cell_type": "code",
   "execution_count": null,
   "id": "6",
   "metadata": {},
   "source": [
    "# Load your example MIDI and trained model\n",
    "example_midi = \"path_to_your_example.mid\"  # Replace with your MIDI file path\n",
    "model = load_model(\"path_to_your_model.keras\")  # Replace with your model path\n",
    "\n",
    "# Extract notes from example\n",
    "notes = extract_notes(example_midi)\n",
    "\n",
    "# Prepare sequences\n",
    "network_input, _, n_vocab, pitchnames = prepare_sequences(notes)\n",
    "\n",
    "# Generate new notes\n",
    "prediction_output = generate_notes(model, network_input, pitchnames, n_vocab)\n",
    "\n",
    "# Create new MIDI file\n",
    "create_midi(prediction_output)"
   ]
  }
 ]
}
