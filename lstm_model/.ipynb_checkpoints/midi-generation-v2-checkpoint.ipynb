{
 "nbformat": 4,
 "nbformat_minor": 5,
 "metadata": {
  "kernelspec": {
   "display_name": "Python 3",
   "language": "python",
   "name": "python3"
  },
  "language_info": {
   "codemirror_mode": {
    "name": "ipython",
    "version": 3
   },
   "file_extension": ".py",
   "mimetype": "text/x-python",
   "name": "python",
   "nbconvert_exporter": "python",
   "pygments_lexer": "ipython3",
   "version": "3.8.0"
  }
 },
 "cells": [
  {
   "cell_type": "markdown",
   "id": "intro",
   "metadata": {},
   "source": [
    "# MIDI Generation using LSTM Model\n",
    "\n",
    "This notebook generates new MIDI files based on an example MIDI and a pre-trained LSTM model."
   ]
  },
  {
   "cell_type": "code",
   "execution_count": null,
   "id": "imports",
   "metadata": {},
   "source": [
    "import music21\n",
    "import numpy as np\n",
    "from keras.models import load_model\n",
    "from music21 import *\n",
    "import random\n",
    "import matplotlib.pyplot as plt\n",
    "from IPython.display import Audio\n",
    "import os"
   ]
  },
  {
   "cell_type": "markdown",
   "id": "config",
   "metadata": {},
   "source": [
    "## Configuration\n",
    "Set your paths and parameters here:"
   ]
  },
  {
   "cell_type": "code",
   "execution_count": null,
   "id": "config-code",
   "metadata": {},
   "source": [
    "# Paths\n",
    "MODEL_PATH = \"path_to_your_model.keras\"\n",
    "EXAMPLE_MIDI = \"path_to_your_example.mid\"\n",
    "OUTPUT_MIDI = \"generated_output.mid\"\n",
    "\n",
    "# Parameters\n",
    "SEQUENCE_LENGTH = 100\n",
    "N_NOTES = 500\n",
    "TEMPERATURE = 1.0  # Controls randomness in generation"
   ]
  },
  {
   "cell_type": "markdown",
   "id": "functions",
   "metadata": {},
   "source": [
    "## Helper Functions"
   ]
  },
  {
   "cell_type": "code",
   "execution_count": null,
   "id": "extract-notes",
   "metadata": {},
   "source": [
    "def extract_notes(file_path):\n",
    "    notes = []\n",
    "    try:\n",
    "        midi = converter.parse(file_path)\n",
    "        instruments = instrument.partitionByInstrument(midi)\n",
    "        \n",
    "        for part in instruments.parts:\n",
    "            for element in part.flat.notes:\n",
    "                if isinstance(element, note.Note):\n",
    "                    notes.append(str(element.pitch))\n",
    "                elif isinstance(element, chord.Chord):\n",
    "                    notes.append('.'.join(str(n) for n in element.normalOrder))\n",
    "                    \n",
    "        return notes, True\n",
    "    except Exception as e:\n",
    "        print(f\"Error loading MIDI: {str(e)}\")\n",
    "        return [], False"
   ]
  },
  {
   "cell_type": "code",
   "execution_count": null,
   "id": "prepare-sequences",
   "metadata": {},
   "source": [
    "def prepare_sequences(notes, sequence_length=SEQUENCE_LENGTH):\n",
    "    pitchnames = sorted(set(notes))\n",
    "    note_to_int = dict((note, number) for number, note in enumerate(pitchnames))\n",
    "    \n",
    "    network_input = []\n",
    "    network_output = []\n",
    "    \n",
    "    for i in range(0, len(notes) - sequence_length):\n",
    "        sequence_in = notes[i:i + sequence_length]\n",
    "        sequence_out = notes[i + sequence_length]\n",
    "        network_input.append([note_to_int[char] for char in sequence_in])\n",
    "        network_output.append(note_to_int[sequence_out])\n",
    "    \n",
    "    return (np.array(network_input), np.array(network_output), len(pitchnames), pitchnames)"
   ]
  },
  {
   "cell_type": "code",
   "execution_count": null,
   "id": "generate-notes",
   "metadata": {},
   "source": [
    "def generate_notes(model, network_input, pitchnames, n_vocab, n_notes=N_NOTES, temperature=TEMPERATURE):\n",
    "    start = random.randint(0, len(network_input)-1)\n",
    "    int_to_note = dict((number, note) for number, note in enumerate(pitchnames))\n",
    "    pattern = list(network_input[start])\n",
    "    \n",
    "    prediction_output = []\n",
    "    \n",
    "    for i in range(n_notes):\n",
    "        prediction_input = np.reshape(pattern, (1, len(pattern), 1))\n",
    "        prediction_input = prediction_input / float(n_vocab)\n",
    "        \n",
    "        prediction = model.predict(prediction_input, verbose=0)\n",
    "        \n",
    "        # Apply temperature\n",
    "        prediction = np.log(prediction) / temperature\n",
    "        exp_preds = np.exp(prediction)\n",
    "        prediction = exp_preds / np.sum(exp_preds)\n",
    "        \n",
    "        index = np.random.choice(len(prediction[0]), p=prediction[0])\n",
    "        \n",
    "        result = int_to_note[index]\n",
    "        prediction_output.append(result)\n",
    "        \n",
    "        pattern.append(index)\n",
    "        pattern = pattern[1:]\n",
    "    \n",
    "    return prediction_output"
   ]
  },
  {
   "cell_type": "code",
   "execution_count": null,
   "id": "create-midi",
   "metadata": {},
   "source": [
    "def create_midi(prediction_output, filename=OUTPUT_MIDI):\n",
    "    offset = 0\n",
    "    output_notes = []\n",
    "\n",
    "    for pattern in prediction_output:\n",
    "        if ('.' in pattern) or pattern.isdigit():\n",
    "            chord_notes = pattern.split('.')\n",
    "            notes = []\n",
    "            for current_note in chord_notes:\n",
    "                new_note = note.Note(int(current_note))\n",
    "                new_note.storedInstrument = instrument.Piano()\n",
    "                notes.append(new_note)\n",
    "            new_chord = chord.Chord(notes)\n",
    "            new_chord.offset = offset\n",
    "            output_notes.append(new_chord)\n",
    "        else:\n",
    "            new_note = note.Note(pattern)\n",
    "            new_note.offset = offset\n",
    "            new_note.storedInstrument = instrument.Piano()\n",
    "            output_notes.append(new_note)\n",
    "\n",
    "        offset += 0.5\n",
    "\n",
    "    midi_stream = stream.Stream(output_notes)\n",
    "    midi_stream.write('midi', fp=filename)\n",
    "    return midi_stream"
   ]
  },
  {
   "cell_type": "markdown",
   "id": "analysis",
   "metadata": {},
   "source": [
    "## Load and Verify Model"
   ]
  },
  {
   "cell_type": "code",
   "execution_count": null,
   "id": "load-model",
   "metadata": {},
   "source": [
    "try:\n",
    "    model = load_model(MODEL_PATH)\n",
    "    print(\"Model loaded successfully\")\n",
    "    model.summary()\n",
    "except Exception as e:\n",
    "    print(f\"Error loading model: {str(e)}\")"
   ]
  },
  {
   "cell_type": "markdown",
   "id": "process",
   "metadata": {},
   "source": [
    "## Process Example MIDI"
   ]
  },
  {
   "cell_type": "code",
   "execution_count": null,
   "id": "process-midi",
   "metadata": {},
   "source": [
    "# Extract and analyze notes\n",
    "notes, success = extract_notes(EXAMPLE_MIDI)\n",
    "if success:\n",
    "    print(f\"Total notes extracted: {len(notes)}\")\n",
    "    print(f\"Unique notes/chords: {len(set(notes))}\")\n",
    "    \n",
    "    # Plot note distribution\n",
    "    plt.figure(figsize=(12, 6))\n",
    "    unique_notes = list(set(notes))\n",
    "    plt.hist([unique_notes.index(note) for note in notes], bins=50)\n",
    "    plt.title('Note Distribution in Example MIDI')\n",
    "    plt.xlabel('Note Index')\n",
    "    plt.ylabel('Frequency')\n",
    "    plt.show()"
   ]
  },
  {
   "cell_type": "markdown",
   "id": "generation",
   "metadata": {},
   "source": [
    "## Generate New MIDI"
   ]
  },
  {
   "cell_type": "code",
   "execution_count": null,
   "id": "generate",
   "metadata": {},
   "source": [
    "if success:\n",
    "    # Prepare sequences\n",
    "    network_input, _, n_vocab, pitchnames = prepare_sequences(notes)\n",
    "    \n",
    "    # Generate new notes\n",
    "    prediction_output = generate_notes(model, network_input, pitchnames, n_vocab)\n",
    "    \n",
    "    # Create MIDI file\n",
    "    midi_stream = create_midi(prediction_output)\n",
    "    \n",
    "    print(f\"Generated MIDI saved as: {OUTPUT_MIDI}\")\n",
    "    \n",
    "    # Play the generated MIDI\n",
    "    Audio(OUTPUT_MIDI)"
   ]
  }
 ]
}
