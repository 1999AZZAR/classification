{
 "cells": [
  {
   "cell_type": "markdown",
   "id": "d569ddbc-fa7d-44d3-af2b-cb87ea95a7d4",
   "metadata": {},
   "source": [
    "https://www.sitepoint.com/keras-face-detection-recognition/"
   ]
  },
  {
   "cell_type": "markdown",
   "id": "8ecc8c60-0c00-45ca-91da-a99deeb9b63e",
   "metadata": {},
   "source": [
    "## installing dependency"
   ]
  },
  {
   "cell_type": "code",
   "execution_count": 2,
   "id": "b924ecda-baf5-4c65-ad7c-227991106d8b",
   "metadata": {
    "scrolled": true
   },
   "outputs": [
    {
     "name": "stdout",
     "output_type": "stream",
     "text": [
      "Requirement already satisfied: matplotlib in /opt/micromamba/envs/python_310/lib/python3.10/site-packages (3.9.2)\n",
      "Requirement already satisfied: mtcnn in /opt/micromamba/envs/python_310/lib/python3.10/site-packages (0.1.1)\n",
      "Requirement already satisfied: keras_vggface in /opt/micromamba/envs/python_310/lib/python3.10/site-packages (0.6)\n",
      "Requirement already satisfied: keras-applications in /opt/micromamba/envs/python_310/lib/python3.10/site-packages (1.0.8)\n",
      "Requirement already satisfied: keras in /opt/micromamba/envs/python_310/lib/python3.10/site-packages (3.5.0)\n",
      "Requirement already satisfied: spicy in /opt/micromamba/envs/python_310/lib/python3.10/site-packages (0.16.0)\n",
      "Requirement already satisfied: tensorflow[and-cuda] in /opt/micromamba/envs/python_310/lib/python3.10/site-packages (2.17.0)\n",
      "Requirement already satisfied: contourpy>=1.0.1 in /opt/micromamba/envs/python_310/lib/python3.10/site-packages (from matplotlib) (1.3.0)\n",
      "Requirement already satisfied: cycler>=0.10 in /opt/micromamba/envs/python_310/lib/python3.10/site-packages (from matplotlib) (0.12.1)\n",
      "Requirement already satisfied: fonttools>=4.22.0 in /opt/micromamba/envs/python_310/lib/python3.10/site-packages (from matplotlib) (4.53.1)\n",
      "Requirement already satisfied: kiwisolver>=1.3.1 in /opt/micromamba/envs/python_310/lib/python3.10/site-packages (from matplotlib) (1.4.7)\n",
      "Requirement already satisfied: numpy>=1.23 in /opt/micromamba/envs/python_310/lib/python3.10/site-packages (from matplotlib) (1.26.4)\n",
      "Requirement already satisfied: packaging>=20.0 in /opt/micromamba/envs/python_310/lib/python3.10/site-packages (from matplotlib) (24.0)\n",
      "Requirement already satisfied: pillow>=8 in /opt/micromamba/envs/python_310/lib/python3.10/site-packages (from matplotlib) (8.4.0)\n",
      "Requirement already satisfied: pyparsing>=2.3.1 in /opt/micromamba/envs/python_310/lib/python3.10/site-packages (from matplotlib) (3.1.4)\n",
      "Requirement already satisfied: python-dateutil>=2.7 in /opt/micromamba/envs/python_310/lib/python3.10/site-packages (from matplotlib) (2.9.0)\n",
      "Requirement already satisfied: opencv-python>=4.1.0 in /opt/micromamba/envs/python_310/lib/python3.10/site-packages (from mtcnn) (4.10.0.84)\n",
      "Requirement already satisfied: scipy>=0.14 in /opt/micromamba/envs/python_310/lib/python3.10/site-packages (from keras_vggface) (1.14.1)\n",
      "Requirement already satisfied: h5py in /opt/micromamba/envs/python_310/lib/python3.10/site-packages (from keras_vggface) (3.11.0)\n",
      "Requirement already satisfied: six>=1.9.0 in /opt/micromamba/envs/python_310/lib/python3.10/site-packages (from keras_vggface) (1.16.0)\n",
      "Requirement already satisfied: pyyaml in /opt/micromamba/envs/python_310/lib/python3.10/site-packages (from keras_vggface) (6.0.1)\n",
      "Requirement already satisfied: absl-py in /opt/micromamba/envs/python_310/lib/python3.10/site-packages (from keras) (2.1.0)\n",
      "Requirement already satisfied: rich in /opt/micromamba/envs/python_310/lib/python3.10/site-packages (from keras) (13.8.0)\n",
      "Requirement already satisfied: namex in /opt/micromamba/envs/python_310/lib/python3.10/site-packages (from keras) (0.0.8)\n",
      "Requirement already satisfied: optree in /opt/micromamba/envs/python_310/lib/python3.10/site-packages (from keras) (0.12.1)\n",
      "Requirement already satisfied: ml-dtypes in /opt/micromamba/envs/python_310/lib/python3.10/site-packages (from keras) (0.4.0)\n",
      "Requirement already satisfied: astunparse>=1.6.0 in /opt/micromamba/envs/python_310/lib/python3.10/site-packages (from tensorflow[and-cuda]) (1.6.3)\n",
      "Requirement already satisfied: flatbuffers>=24.3.25 in /opt/micromamba/envs/python_310/lib/python3.10/site-packages (from tensorflow[and-cuda]) (24.3.25)\n",
      "Requirement already satisfied: gast!=0.5.0,!=0.5.1,!=0.5.2,>=0.2.1 in /opt/micromamba/envs/python_310/lib/python3.10/site-packages (from tensorflow[and-cuda]) (0.6.0)\n",
      "Requirement already satisfied: google-pasta>=0.1.1 in /opt/micromamba/envs/python_310/lib/python3.10/site-packages (from tensorflow[and-cuda]) (0.2.0)\n",
      "Requirement already satisfied: libclang>=13.0.0 in /opt/micromamba/envs/python_310/lib/python3.10/site-packages (from tensorflow[and-cuda]) (18.1.1)\n",
      "Requirement already satisfied: opt-einsum>=2.3.2 in /opt/micromamba/envs/python_310/lib/python3.10/site-packages (from tensorflow[and-cuda]) (3.3.0)\n",
      "Requirement already satisfied: protobuf!=4.21.0,!=4.21.1,!=4.21.2,!=4.21.3,!=4.21.4,!=4.21.5,<5.0.0dev,>=3.20.3 in /opt/micromamba/envs/python_310/lib/python3.10/site-packages (from tensorflow[and-cuda]) (4.25.4)\n",
      "Requirement already satisfied: requests<3,>=2.21.0 in /opt/micromamba/envs/python_310/lib/python3.10/site-packages (from tensorflow[and-cuda]) (2.31.0)\n",
      "Requirement already satisfied: setuptools in /opt/micromamba/envs/python_310/lib/python3.10/site-packages (from tensorflow[and-cuda]) (69.2.0)\n",
      "Requirement already satisfied: termcolor>=1.1.0 in /opt/micromamba/envs/python_310/lib/python3.10/site-packages (from tensorflow[and-cuda]) (2.4.0)\n",
      "Requirement already satisfied: typing-extensions>=3.6.6 in /opt/micromamba/envs/python_310/lib/python3.10/site-packages (from tensorflow[and-cuda]) (4.10.0)\n",
      "Requirement already satisfied: wrapt>=1.11.0 in /opt/micromamba/envs/python_310/lib/python3.10/site-packages (from tensorflow[and-cuda]) (1.16.0)\n",
      "Requirement already satisfied: grpcio<2.0,>=1.24.3 in /opt/micromamba/envs/python_310/lib/python3.10/site-packages (from tensorflow[and-cuda]) (1.66.1)\n",
      "Requirement already satisfied: tensorboard<2.18,>=2.17 in /opt/micromamba/envs/python_310/lib/python3.10/site-packages (from tensorflow[and-cuda]) (2.17.1)\n",
      "Requirement already satisfied: tensorflow-io-gcs-filesystem>=0.23.1 in /opt/micromamba/envs/python_310/lib/python3.10/site-packages (from tensorflow[and-cuda]) (0.37.1)\n",
      "Collecting nvidia-cublas-cu12==12.3.4.1 (from tensorflow[and-cuda])\n",
      "  Using cached nvidia_cublas_cu12-12.3.4.1-py3-none-manylinux1_x86_64.whl.metadata (1.5 kB)\n",
      "Collecting nvidia-cuda-cupti-cu12==12.3.101 (from tensorflow[and-cuda])\n",
      "  Using cached nvidia_cuda_cupti_cu12-12.3.101-py3-none-manylinux1_x86_64.whl.metadata (1.6 kB)\n",
      "Collecting nvidia-cuda-nvcc-cu12==12.3.107 (from tensorflow[and-cuda])\n",
      "  Using cached nvidia_cuda_nvcc_cu12-12.3.107-py3-none-manylinux1_x86_64.whl.metadata (1.5 kB)\n",
      "Collecting nvidia-cuda-nvrtc-cu12==12.3.107 (from tensorflow[and-cuda])\n",
      "  Using cached nvidia_cuda_nvrtc_cu12-12.3.107-py3-none-manylinux1_x86_64.whl.metadata (1.5 kB)\n",
      "Collecting nvidia-cuda-runtime-cu12==12.3.101 (from tensorflow[and-cuda])\n",
      "  Using cached nvidia_cuda_runtime_cu12-12.3.101-py3-none-manylinux1_x86_64.whl.metadata (1.5 kB)\n",
      "Collecting nvidia-cudnn-cu12==8.9.7.29 (from tensorflow[and-cuda])\n",
      "  Using cached nvidia_cudnn_cu12-8.9.7.29-py3-none-manylinux1_x86_64.whl.metadata (1.6 kB)\n",
      "Collecting nvidia-cufft-cu12==11.0.12.1 (from tensorflow[and-cuda])\n",
      "  Using cached nvidia_cufft_cu12-11.0.12.1-py3-none-manylinux1_x86_64.whl.metadata (1.5 kB)\n",
      "Collecting nvidia-curand-cu12==10.3.4.107 (from tensorflow[and-cuda])\n",
      "  Using cached nvidia_curand_cu12-10.3.4.107-py3-none-manylinux1_x86_64.whl.metadata (1.5 kB)\n",
      "Collecting nvidia-cusolver-cu12==11.5.4.101 (from tensorflow[and-cuda])\n",
      "  Using cached nvidia_cusolver_cu12-11.5.4.101-py3-none-manylinux1_x86_64.whl.metadata (1.6 kB)\n",
      "Collecting nvidia-cusparse-cu12==12.2.0.103 (from tensorflow[and-cuda])\n",
      "  Using cached nvidia_cusparse_cu12-12.2.0.103-py3-none-manylinux1_x86_64.whl.metadata (1.6 kB)\n",
      "Collecting nvidia-nccl-cu12==2.19.3 (from tensorflow[and-cuda])\n",
      "  Using cached nvidia_nccl_cu12-2.19.3-py3-none-manylinux1_x86_64.whl.metadata (1.8 kB)\n",
      "Collecting nvidia-nvjitlink-cu12==12.3.101 (from tensorflow[and-cuda])\n",
      "  Using cached nvidia_nvjitlink_cu12-12.3.101-py3-none-manylinux1_x86_64.whl.metadata (1.5 kB)\n",
      "Requirement already satisfied: wheel<1.0,>=0.23.0 in /opt/micromamba/envs/python_310/lib/python3.10/site-packages (from astunparse>=1.6.0->tensorflow[and-cuda]) (0.43.0)\n",
      "Requirement already satisfied: charset-normalizer<4,>=2 in /opt/micromamba/envs/python_310/lib/python3.10/site-packages (from requests<3,>=2.21.0->tensorflow[and-cuda]) (3.3.2)\n",
      "Requirement already satisfied: idna<4,>=2.5 in /opt/micromamba/envs/python_310/lib/python3.10/site-packages (from requests<3,>=2.21.0->tensorflow[and-cuda]) (3.6)\n",
      "Requirement already satisfied: urllib3<3,>=1.21.1 in /opt/micromamba/envs/python_310/lib/python3.10/site-packages (from requests<3,>=2.21.0->tensorflow[and-cuda]) (2.2.1)\n",
      "Requirement already satisfied: certifi>=2017.4.17 in /opt/micromamba/envs/python_310/lib/python3.10/site-packages (from requests<3,>=2.21.0->tensorflow[and-cuda]) (2024.2.2)\n",
      "Requirement already satisfied: markdown>=2.6.8 in /opt/micromamba/envs/python_310/lib/python3.10/site-packages (from tensorboard<2.18,>=2.17->tensorflow[and-cuda]) (3.7)\n",
      "Requirement already satisfied: tensorboard-data-server<0.8.0,>=0.7.0 in /opt/micromamba/envs/python_310/lib/python3.10/site-packages (from tensorboard<2.18,>=2.17->tensorflow[and-cuda]) (0.7.2)\n",
      "Requirement already satisfied: werkzeug>=1.0.1 in /opt/micromamba/envs/python_310/lib/python3.10/site-packages (from tensorboard<2.18,>=2.17->tensorflow[and-cuda]) (3.0.4)\n",
      "Requirement already satisfied: markdown-it-py>=2.2.0 in /opt/micromamba/envs/python_310/lib/python3.10/site-packages (from rich->keras) (3.0.0)\n",
      "Requirement already satisfied: pygments<3.0.0,>=2.13.0 in /opt/micromamba/envs/python_310/lib/python3.10/site-packages (from rich->keras) (2.17.2)\n",
      "Requirement already satisfied: mdurl~=0.1 in /opt/micromamba/envs/python_310/lib/python3.10/site-packages (from markdown-it-py>=2.2.0->rich->keras) (0.1.2)\n",
      "Requirement already satisfied: MarkupSafe>=2.1.1 in /opt/micromamba/envs/python_310/lib/python3.10/site-packages (from werkzeug>=1.0.1->tensorboard<2.18,>=2.17->tensorflow[and-cuda]) (2.1.5)\n",
      "Using cached nvidia_cublas_cu12-12.3.4.1-py3-none-manylinux1_x86_64.whl (412.6 MB)\n",
      "Using cached nvidia_cuda_cupti_cu12-12.3.101-py3-none-manylinux1_x86_64.whl (14.0 MB)\n",
      "Using cached nvidia_cuda_nvcc_cu12-12.3.107-py3-none-manylinux1_x86_64.whl (22.0 MB)\n",
      "Using cached nvidia_cuda_nvrtc_cu12-12.3.107-py3-none-manylinux1_x86_64.whl (24.9 MB)\n",
      "Using cached nvidia_cuda_runtime_cu12-12.3.101-py3-none-manylinux1_x86_64.whl (867 kB)\n",
      "Using cached nvidia_cudnn_cu12-8.9.7.29-py3-none-manylinux1_x86_64.whl (704.7 MB)\n",
      "Using cached nvidia_cufft_cu12-11.0.12.1-py3-none-manylinux1_x86_64.whl (98.8 MB)\n",
      "Using cached nvidia_curand_cu12-10.3.4.107-py3-none-manylinux1_x86_64.whl (56.3 MB)\n",
      "Using cached nvidia_cusolver_cu12-11.5.4.101-py3-none-manylinux1_x86_64.whl (125.2 MB)\n",
      "Using cached nvidia_cusparse_cu12-12.2.0.103-py3-none-manylinux1_x86_64.whl (197.5 MB)\n",
      "Using cached nvidia_nccl_cu12-2.19.3-py3-none-manylinux1_x86_64.whl (166.0 MB)\n",
      "Using cached nvidia_nvjitlink_cu12-12.3.101-py3-none-manylinux1_x86_64.whl (20.5 MB)\n",
      "Installing collected packages: nvidia-nvjitlink-cu12, nvidia-nccl-cu12, nvidia-curand-cu12, nvidia-cufft-cu12, nvidia-cuda-runtime-cu12, nvidia-cuda-nvrtc-cu12, nvidia-cuda-nvcc-cu12, nvidia-cuda-cupti-cu12, nvidia-cublas-cu12, nvidia-cusparse-cu12, nvidia-cudnn-cu12, nvidia-cusolver-cu12\n",
      "Successfully installed nvidia-cublas-cu12-12.3.4.1 nvidia-cuda-cupti-cu12-12.3.101 nvidia-cuda-nvcc-cu12-12.3.107 nvidia-cuda-nvrtc-cu12-12.3.107 nvidia-cuda-runtime-cu12-12.3.101 nvidia-cudnn-cu12-8.9.7.29 nvidia-cufft-cu12-11.0.12.1 nvidia-curand-cu12-10.3.4.107 nvidia-cusolver-cu12-11.5.4.101 nvidia-cusparse-cu12-12.2.0.103 nvidia-nccl-cu12-2.19.3 nvidia-nvjitlink-cu12-12.3.101\n"
     ]
    }
   ],
   "source": [
    "!pip3 install matplotlib mtcnn keras_vggface keras-applications keras tensorflow[and-cuda] spicy"
   ]
  },
  {
   "cell_type": "markdown",
   "id": "39230cdd-9bde-45ef-a50d-f56c7d7774f2",
   "metadata": {},
   "source": [
    "# Step 1: Face Detection with the MTCNN Model"
   ]
  },
  {
   "cell_type": "markdown",
   "id": "2b83374a-9319-4180-9685-9ca74786cc08",
   "metadata": {},
   "source": [
    "### The objectives in this step are as follows:\n",
    "\n",
    "- retrieve images hosted externally to a local server\n",
    "- read images through matplotlib’s imread() function\n",
    "- detect and explore faces through the MTCNN algorithm\n",
    "- extract faces from an image"
   ]
  },
  {
   "cell_type": "markdown",
   "id": "4b22e3b2-eb21-499c-b3f9-4be77cfb016d",
   "metadata": {},
   "source": [
    "## 1.1 Store External Images"
   ]
  },
  {
   "cell_type": "markdown",
   "id": "a7aa3ebf-0d30-4a01-9db6-61ba224cfe10",
   "metadata": {},
   "source": [
    "To temporarily store the images locally for our analysis, we’ll retrieve each from its URL and write it to a local file. Let’s define a function store_image for this purpose:"
   ]
  },
  {
   "cell_type": "code",
   "execution_count": null,
   "id": "0dee85ce-af0f-4f21-9f06-8cb2a631d7ce",
   "metadata": {},
   "outputs": [],
   "source": [
    "import urllib.request\n",
    "\n",
    "def store_image(url, local_file_name):\n",
    "  with urllib.request.urlopen(url) as resource:\n",
    "    with open(local_file_name, 'wb') as f:\n",
    "      f.write(resource.read())"
   ]
  },
  {
   "cell_type": "code",
   "execution_count": null,
   "id": "099175d8-204b-40a2-bc62-4ba62442c549",
   "metadata": {},
   "outputs": [],
   "source": [
    "#  call the function with the URL and the local file in which you’d like to store the image:\n",
    "store_image('https://ichef.bbci.co.uk/news/320/cpsprodpb/5944/production/_107725822_55fd57ad-c509-4335-a7d2-bcc86e32be72.jpg',\n",
    "            'iacocca_1.jpg')\n",
    "store_image('https://www.gannett-cdn.com/presto/2019/07/03/PDTN/205798e7-9555-4245-99e1-fd300c50ce85-AP_080910055617.jpg?width=540&height=&fit=bounds&auto=webp',\n",
    "            'iacocca_2.jpg')"
   ]
  },
  {
   "cell_type": "markdown",
   "id": "201081f5-796b-4f8e-852a-4c778626a27d",
   "metadata": {},
   "source": [
    "## 1.2 Detect Faces in an Image"
   ]
  },
  {
   "cell_type": "markdown",
   "id": "9abb849f-4a27-48f9-bbac-0f4f23d8d892",
   "metadata": {},
   "source": [
    "imports — matplotlib for reading images, and mtcnn for detecting faces within the images:"
   ]
  },
  {
   "cell_type": "code",
   "execution_count": null,
   "id": "817a7641-0489-4040-873b-b08da2cc988e",
   "metadata": {},
   "outputs": [],
   "source": [
    "from matplotlib import pyplot as plt\n",
    "from mtcnn.mtcnn import MTCNN"
   ]
  },
  {
   "cell_type": "code",
   "execution_count": null,
   "id": "0bb5a8b0-7228-43be-9258-9b81b950e7bc",
   "metadata": {},
   "outputs": [],
   "source": [
    "image = plt.imread('iacocca_1.jpg')"
   ]
  },
  {
   "cell_type": "code",
   "execution_count": null,
   "id": "f32c8e95-029a-469b-accc-b0c6a5e7175d",
   "metadata": {},
   "outputs": [],
   "source": [
    "detector = MTCNN()\n",
    "\n",
    "faces = detector.detect_faces(image)\n",
    "for face in faces:\n",
    "  print(face)"
   ]
  },
  {
   "cell_type": "code",
   "execution_count": null,
   "id": "37d7864b-5126-4af1-a8ef-8435511ee383",
   "metadata": {},
   "outputs": [],
   "source": [
    "{'box': [160, 40, 35, 44], 'confidence': 0.9999798536300659, 'keypoints': {'left_eye': (172, 57), 'right_eye': (188, 57), 'nose': (182, 64), 'mouth_left': (173, 73), 'mouth_right': (187, 73)}}"
   ]
  },
  {
   "cell_type": "markdown",
   "id": "cc2687f2-5d46-43d9-b6d1-a45d82da0877",
   "metadata": {},
   "source": [
    "## 1.3 Highlight Faces in an Image"
   ]
  },
  {
   "cell_type": "code",
   "execution_count": null,
   "id": "e639bab1-6576-463a-b23a-326d220cea2b",
   "metadata": {},
   "outputs": [],
   "source": [
    "from matplotlib.patches import Rectangle"
   ]
  },
  {
   "cell_type": "code",
   "execution_count": null,
   "id": "ead1c719-f720-4981-a231-0222d2a43e9e",
   "metadata": {},
   "outputs": [],
   "source": [
    "def highlight_faces(image_path, faces):\n",
    "  # display image\n",
    "  image = plt.imread(image_path)\n",
    "  plt.imshow(image)\n",
    "\n",
    "  ax = plt.gca()\n",
    "\n",
    "  # for each face, draw a rectangle based on coordinates\n",
    "  for face in faces:\n",
    "    x, y, width, height = face['box']\n",
    "    face_border = Rectangle((x, y), width, height,\n",
    "                          fill=False, color='red')\n",
    "    ax.add_patch(face_border)\n",
    "  plt.show()"
   ]
  },
  {
   "cell_type": "code",
   "execution_count": null,
   "id": "a069930c-afc1-4789-88c7-2cc443c528a1",
   "metadata": {},
   "outputs": [],
   "source": [
    "highlight_faces('iacocca_1.jpg', faces)"
   ]
  },
  {
   "cell_type": "code",
   "execution_count": null,
   "id": "e7a4e35b-122a-4600-b853-f1f621c4bde9",
   "metadata": {},
   "outputs": [],
   "source": [
    "image = plt.imread('iacocca_2.jpg')\n",
    "faces = detector.detect_faces(image)\n",
    "\n",
    "highlight_faces('iacocca_2.jpg', faces)"
   ]
  },
  {
   "cell_type": "markdown",
   "id": "90a021db-2a2e-464e-92d7-a1f4a5d17bfe",
   "metadata": {},
   "source": [
    "## 1.4 Extract a Face for Further Analysis"
   ]
  },
  {
   "cell_type": "code",
   "execution_count": null,
   "id": "11f54d9f-d065-4b1d-b812-99717f4b6097",
   "metadata": {},
   "outputs": [],
   "source": [
    "from numpy import asarray\n",
    "from PIL import Image\n",
    "\n",
    "def extract_face_from_image(image_path, required_size=(224, 224)):\n",
    "  # load image and detect faces\n",
    "  image = plt.imread(image_path)\n",
    "  detector = MTCNN()\n",
    "  faces = detector.detect_faces(image)\n",
    "\n",
    "  face_images = []\n",
    "\n",
    "  for face in faces:\n",
    "    # extract the bounding box from the requested face\n",
    "    x1, y1, width, height = face['box']\n",
    "    x2, y2 = x1 + width, y1 + height\n",
    "\n",
    "    # extract the face\n",
    "    face_boundary = image[y1:y2, x1:x2]\n",
    "\n",
    "    # resize pixels to the model size\n",
    "    face_image = Image.fromarray(face_boundary)\n",
    "    face_image = face_image.resize(required_size)\n",
    "    face_array = asarray(face_image)\n",
    "    face_images.append(face_array)\n",
    "\n",
    "  return face_images\n",
    "\n",
    "extracted_face = extract_face_from_image('iacocca_1.jpg')\n",
    "\n",
    "# Display the first face from the extracted faces\n",
    "plt.imshow(extracted_face[0])\n",
    "plt.show()"
   ]
  },
  {
   "cell_type": "markdown",
   "id": "bd4b462d-3aa3-4ad6-a8ad-e7096df3fd1d",
   "metadata": {},
   "source": [
    "# Step 2: Face Recognition with VGGFace2 Model"
   ]
  },
  {
   "cell_type": "markdown",
   "id": "c73c780f-ba8c-44c0-a33a-be0e9ad5fd88",
   "metadata": {},
   "source": [
    "In this section, let’s first test the model on the two images of Lee Iacocca that we’ve retrieved. Then, we’ll move on to compare faces from images of the starting eleven of the Chelsea football team in 2018 and 2019. You’ll then be able to assess if the algorithm identifies faces of common players between the images."
   ]
  },
  {
   "cell_type": "markdown",
   "id": "035ae878-d5c4-445f-8bb4-6502eb7ef652",
   "metadata": {},
   "source": [
    "## 2.1 Compare Two Faces"
   ]
  },
  {
   "cell_type": "markdown",
   "id": "6a4b2dde-fcc8-4737-a381-731e2e7f7fc0",
   "metadata": {},
   "source": [
    "In this section, you need to import three modules: VGGFace to prepare the extracted faces to be used in the face recognition models, and the cosine function from SciPy to compute the distance between two faces:"
   ]
  },
  {
   "cell_type": "code",
   "execution_count": null,
   "id": "c935d208-ad86-4f4a-94d1-2ce1f4afaa8e",
   "metadata": {},
   "outputs": [],
   "source": [
    "from keras_vggface.utils import preprocess_input\n",
    "from keras_vggface.vggface import VGGFace\n",
    "from scipy.spatial.distance import cosine"
   ]
  },
  {
   "cell_type": "code",
   "execution_count": null,
   "id": "514754bb-d179-43a0-9b2f-d33fe958d12f",
   "metadata": {},
   "outputs": [],
   "source": [
    "def get_model_scores(faces):\n",
    "  samples = asarray(faces, 'float32')\n",
    "\n",
    "  # prepare the data for the model\n",
    "  samples = preprocess_input(samples, version=2)\n",
    "\n",
    "  # create a vggface model object\n",
    "  model = VGGFace(model='resnet50',\n",
    "      include_top=False,\n",
    "      input_shape=(224, 224, 3),\n",
    "      pooling='avg')\n",
    "\n",
    "  # perform prediction\n",
    "  return model.predict(samples)\n",
    "\n",
    "faces = [extract_face_from_image(image_path)\n",
    "         for image_path in ['iacocca_1.jpg', 'iacocca_2.jpg']]\n",
    "\n",
    "model_scores = get_model_scores(faces)"
   ]
  },
  {
   "cell_type": "code",
   "execution_count": null,
   "id": "9fa8f5fd-5884-4443-8f72-a709b4331eb6",
   "metadata": {},
   "outputs": [],
   "source": [
    "if cosine(model_scores[0], model_scores[1]) <= 0.4:\n",
    "  print(\"Faces Matched\")"
   ]
  },
  {
   "cell_type": "markdown",
   "id": "e59a92a9-75fe-431e-b288-ccf738b3ff29",
   "metadata": {},
   "source": [
    "## 2.2 Compare Multiple Faces in Two Images"
   ]
  },
  {
   "cell_type": "markdown",
   "id": "a2563b27-29aa-4d6a-a1e9-4d46a45892c1",
   "metadata": {},
   "source": [
    "We’ll compare the faces in two images of starting elevens of the Chelsea Football Club in a Europa League match vs Slavia Prague in the 2018–19 season and the UEFA Super Cup match vs Liverpool in the 2019–20 season. While many of the players feature in both match day squads, let’s see if the algorithm is able to detect all common players."
   ]
  },
  {
   "cell_type": "code",
   "execution_count": null,
   "id": "0243064a-a177-4f02-b42c-424c38337115",
   "metadata": {},
   "outputs": [],
   "source": [
    "store_image('https://cdn.vox-cdn.com/thumbor/Ua2BXGAhneJHLQmLvj-ZzILK-Xs=/0x0:4872x3160/1820x1213/filters:focal(1877x860:2655x1638):format(webp)/cdn.vox-cdn.com/uploads/chorus_image/image/63613936/1143553317.jpg.5.jpg',\n",
    "            'chelsea_1.jpg')\n",
    "\n",
    "image = plt.imread('chelsea_1.jpg')\n",
    "faces_staring_xi = detector.detect_faces(image)\n",
    "\n",
    "highlight_faces('chelsea_1.jpg', faces_staring_xi)\n",
    "\n",
    "store_image('https://cdn.vox-cdn.com/thumbor/mT3JHQtZIyInU8_uGxVH-TCbF50=/0x415:5000x2794/1820x1213/filters:focal(1878x1176:2678x1976):format(webp)/cdn.vox-cdn.com/uploads/chorus_image/image/65171515/1161847141.jpg.0.jpg',\n",
    "            'chelsea_2.jpg')\n",
    "\n",
    "image = plt.imread('chelsea_2.jpg')\n",
    "faces = detector.detect_faces(image)\n",
    "\n",
    "highlight_faces('chelsea_2.jpg', faces)"
   ]
  },
  {
   "cell_type": "code",
   "execution_count": null,
   "id": "1d6bee0e-1cdc-42cd-b9f0-0a3a9dac0225",
   "metadata": {},
   "outputs": [],
   "source": [
    "slavia_faces = extract_face_from_image('chelsea_1.jpg')\n",
    "liverpool_faces = extract_face_from_image('chelsea_2.jpg')\n",
    "\n",
    "model_scores_starting_xi_slavia = get_model_scores(slavia_faces)\n",
    "model_scores_starting_xi_liverpool = get_model_scores(liverpool_faces)"
   ]
  },
  {
   "cell_type": "code",
   "execution_count": null,
   "id": "92d0994b-5f36-4aa2-bba9-ecbf1e53ea22",
   "metadata": {},
   "outputs": [],
   "source": [
    "for idx, face_score_1 in enumerate(model_scores_starting_xi_slavia):\n",
    "  for idy, face_score_2 in enumerate(model_scores_starting_xi_liverpool):\n",
    "    score = cosine(face_score_1, face_score_2)\n",
    "    if score <= 0.4:\n",
    "      # Printing the IDs of faces and score\n",
    "      print(idx, idy, score)\n",
    "      # Displaying each matched pair of faces\n",
    "      plt.imshow(slavia_faces[idx])\n",
    "      plt.show()\n",
    "      plt.imshow(liverpool_faces[idy])\n",
    "      plt.show()"
   ]
  },
  {
   "cell_type": "code",
   "execution_count": null,
   "id": "09015a87-370b-4b35-bd3a-76222e467692",
   "metadata": {},
   "outputs": [],
   "source": []
  }
 ],
 "metadata": {
  "kernelspec": {
   "display_name": "Python3 (ipykernel)",
   "language": "python",
   "name": "python3"
  },
  "language_info": {
   "codemirror_mode": {
    "name": "ipython",
    "version": 3
   },
   "file_extension": ".py",
   "mimetype": "text/x-python",
   "name": "python",
   "nbconvert_exporter": "python",
   "pygments_lexer": "ipython3",
   "version": "3.10.14"
  }
 },
 "nbformat": 4,
 "nbformat_minor": 5
}
