{
 "cells": [
  {
   "cell_type": "code",
   "execution_count": 2,
   "id": "0bddbed4-5536-4da1-86f7-673f1e7ee00d",
   "metadata": {},
   "outputs": [],
   "source": [
    "# Cell 1: Import necessary libraries\n",
    "import numpy as np\n",
    "import music21\n",
    "from tensorflow.keras.models import load_model"
   ]
  },
  {
   "cell_type": "code",
   "execution_count": 3,
   "id": "d8d7d686-f779-417d-a3be-462fbf6ffd76",
   "metadata": {},
   "outputs": [],
   "source": [
    "# Cell 2: Helper functions\n",
    "def parse_midi_file(file_path):\n",
    "    \"\"\"Extract notes and chords from a MIDI file.\"\"\"\n",
    "    try:\n",
    "        midi_stream = music21.converter.parse(file_path)\n",
    "        notes = []\n",
    "        for element in midi_stream.flat.notes:\n",
    "            if isinstance(element, music21.note.Note):\n",
    "                notes.append(str(element.pitch))\n",
    "            elif isinstance(element, music21.chord.Chord):\n",
    "                notes.append('.'.join(str(n) for n in element.normalOrder))\n",
    "        return notes\n",
    "    except Exception as e:\n",
    "        print(f\"Error processing {file_path}: {e}\")\n",
    "        return []\n",
    "\n",
    "def create_midi_file(predicted_notes, output_path):\n",
    "    \"\"\"Create a MIDI file from predicted notes.\"\"\"\n",
    "    offset = 0\n",
    "    output_notes = []\n",
    "\n",
    "    for note in predicted_notes:\n",
    "        if '.' in note or note.isdigit():\n",
    "            # Chord\n",
    "            chord_notes = [music21.note.Note(int(n)) for n in note.split('.')]\n",
    "            new_chord = music21.chord.Chord(chord_notes)\n",
    "            new_chord.offset = offset\n",
    "            output_notes.append(new_chord)\n",
    "        else:\n",
    "            # Note\n",
    "            new_note = music21.note.Note(note)\n",
    "            new_note.offset = offset\n",
    "            output_notes.append(new_note)\n",
    "\n",
    "        offset += 0.5  # Add a fixed step for note spacing\n",
    "\n",
    "    midi_stream = music21.stream.Stream(output_notes)\n",
    "    midi_stream.write('midi', fp=output_path)\n",
    "\n",
    "def prepare_input_sequence(notes, note_to_int, sequence_length):\n",
    "    \"\"\"Prepare the input sequence for the model.\"\"\"\n",
    "    int_sequence = [note_to_int[note] for note in notes if note in note_to_int]\n",
    "    pattern = int_sequence[-sequence_length:]\n",
    "    input_sequence = np.reshape(pattern, (1, sequence_length, 1))\n",
    "    input_sequence = input_sequence / float(len(note_to_int))\n",
    "    return input_sequence"
   ]
  },
  {
   "cell_type": "code",
   "execution_count": 4,
   "id": "69225426-fb01-4756-bb5e-2f9fcaae6f21",
   "metadata": {},
   "outputs": [
    {
     "name": "stderr",
     "output_type": "stream",
     "text": [
      "I0000 00:00:1733244066.030568 1194009 gpu_device.cc:2022] Created device /job:localhost/replica:0/task:0/device:GPU:0 with 46872 MB memory:  -> device: 0, name: NVIDIA RTX A6000, pci bus id: 0000:09:00.0, compute capability: 8.6\n"
     ]
    },
    {
     "name": "stdout",
     "output_type": "stream",
     "text": [
      "Model loaded from final_model.keras.\n",
      "Unique notes in input: 33\n"
     ]
    },
    {
     "name": "stderr",
     "output_type": "stream",
     "text": [
      "/usr/local/lib/python3.10/dist-packages/music21/stream/base.py:3689: Music21DeprecationWarning: .flat is deprecated.  Call .flatten() instead\n",
      "  return self.iter().getElementsByClass(classFilterList)\n"
     ]
    }
   ],
   "source": [
    "# Cell 3: Load the trained model and prepare data\n",
    "model_path = 'final_model.keras'  # Path to the saved model\n",
    "model = load_model(model_path)\n",
    "print(f\"Model loaded from {model_path}.\")\n",
    "\n",
    "input_midi_path = 'seed5.mid'  # Path to the input MIDI file\n",
    "output_midi_path = 'generated_variation.mid'  # Path to save the generated MIDI variation\n",
    "\n",
    "# Load and process the input MIDI file\n",
    "sequence_length = 50  # Same sequence length as used in training\n",
    "input_notes = parse_midi_file(input_midi_path)\n",
    "\n",
    "if not input_notes:\n",
    "    raise ValueError(\"No valid notes extracted from the input MIDI file.\")\n",
    "\n",
    "# Generate mapping from notes to integers and vice versa\n",
    "unique_notes = sorted(set(input_notes))\n",
    "note_to_int = {note: num for num, note in enumerate(unique_notes)}\n",
    "int_to_note = {num: note for note, num in note_to_int.items()}\n",
    "\n",
    "print(f\"Unique notes in input: {len(unique_notes)}\")"
   ]
  },
  {
   "cell_type": "code",
   "execution_count": 5,
   "id": "16bfb2b7-6455-4d1c-be56-ae0f5266d67f",
   "metadata": {
    "scrolled": true
   },
   "outputs": [
    {
     "name": "stderr",
     "output_type": "stream",
     "text": [
      "I0000 00:00:1733244074.082407 1194341 cuda_dnn.cc:529] Loaded cuDNN version 90300\n"
     ]
    },
    {
     "name": "stdout",
     "output_type": "stream",
     "text": [
      "Generated 200 new notes.\n"
     ]
    }
   ],
   "source": [
    "# Cell 4: Generate new music\n",
    "def generate_variation(model, input_notes, note_to_int, int_to_note, sequence_length, num_notes):\n",
    "    \"\"\"Generate a variation of music based on the trained model.\"\"\"\n",
    "    generated_notes = []\n",
    "    \n",
    "    # Ensure the input_notes size matches the sequence length\n",
    "    input_notes = input_notes[-sequence_length:]  # Truncate to the last 'sequence_length' notes\n",
    "    \n",
    "    # Convert input_notes to integer representations\n",
    "    input_notes_int = [note_to_int[note] for note in input_notes]\n",
    "    \n",
    "    # Reshape the input sequence to be compatible with the model\n",
    "    input_sequence = np.array(input_notes_int)\n",
    "    input_sequence = input_sequence.reshape((1, sequence_length, 1))  # Reshaping for LSTM model\n",
    "    \n",
    "    # Generate notes\n",
    "    for _ in range(num_notes):\n",
    "        # Get model prediction\n",
    "        prediction = model.predict(input_sequence, verbose=0)\n",
    "        \n",
    "        # Get the index with the highest probability (as it is a classification problem)\n",
    "        predicted_index = np.argmax(prediction)\n",
    "        \n",
    "        # Wrap around the predicted index to stay within bounds of available notes\n",
    "        predicted_index = predicted_index % len(int_to_note)\n",
    "        \n",
    "        # Get the predicted note from int_to_note using the wrapped index\n",
    "        predicted_note = int_to_note[predicted_index]\n",
    "        generated_notes.append(predicted_note)\n",
    "        \n",
    "        # Update the input sequence for the next prediction (append the predicted index)\n",
    "        # Reshape predicted_index to match the 3D shape of the input sequence\n",
    "        predicted_index_reshaped = np.array([[predicted_index]]).reshape((1, 1, 1))\n",
    "        input_sequence = np.append(input_sequence[:, 1:, :], predicted_index_reshaped, axis=1)\n",
    "    \n",
    "    return generated_notes\n",
    "\n",
    "num_notes_to_generate = 200  # Number of notes to generate\n",
    "generated_notes = generate_variation(model, input_notes, note_to_int, int_to_note, sequence_length, num_notes_to_generate)\n",
    "print(f\"Generated {len(generated_notes)} new notes.\")\n"
   ]
  },
  {
   "cell_type": "code",
   "execution_count": 6,
   "id": "5e9c3363-52a0-4509-89d2-5f44cf956c01",
   "metadata": {},
   "outputs": [
    {
     "name": "stdout",
     "output_type": "stream",
     "text": [
      "Generated MIDI variation saved to generated_variation.mid.\n"
     ]
    }
   ],
   "source": [
    "# Cell 5: Save the generated variation to a MIDI file\n",
    "create_midi_file(generated_notes, output_midi_path)\n",
    "print(f\"Generated MIDI variation saved to {output_midi_path}.\")"
   ]
  }
 ],
 "metadata": {
  "kernelspec": {
   "display_name": "Python 3 (ipykernel)",
   "language": "python",
   "name": "python3"
  },
  "language_info": {
   "codemirror_mode": {
    "name": "ipython",
    "version": 3
   },
   "file_extension": ".py",
   "mimetype": "text/x-python",
   "name": "python",
   "nbconvert_exporter": "python",
   "pygments_lexer": "ipython3",
   "version": "3.10.12"
  }
 },
 "nbformat": 4,
 "nbformat_minor": 5
}
